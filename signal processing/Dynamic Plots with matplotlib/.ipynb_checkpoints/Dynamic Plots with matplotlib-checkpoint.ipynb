{
 "cells": [
  {
   "cell_type": "markdown",
   "id": "f2dbaf59",
   "metadata": {},
   "source": [
    "<center>\n",
    "    \n",
    "    Dynamic Plots with matplotlib\n",
    "    \n",
    "    Author: Daniel Coble\n",
    "    \n",
    "    Status: Work in progress\n",
    "</center>"
   ]
  },
  {
   "cell_type": "markdown",
   "id": "948a1c72",
   "metadata": {},
   "source": [
    "                                \"Data visualization is half of science.\"\n",
    "\n",
    "                                                        - Albert Einstein, probably.\n",
    "\n",
    "This notebook is mostly for my own reference. I want to use matplotlib.animation to create dynamically updating plots which can update even while calculations are being run. For a simple test I'll use a waveform being streamed in with a low-pass filter. \n",
    "\n",
    "                                            UNFINISHED, OBVIOUSLY"
   ]
  },
  {
   "cell_type": "markdown",
   "id": "d8fa75b5",
   "metadata": {},
   "source": [
    "These lines set pyplot defaults to be journal-ready"
   ]
  },
  {
   "cell_type": "code",
   "execution_count": 1,
   "id": "64f943c9",
   "metadata": {},
   "outputs": [],
   "source": [
    "import itertools\n",
    "\n",
    "import numpy as np\n",
    "import matplotlib.pyplot as plt\n",
    "import matplotlib.animation as animation\n",
    "\n",
    "plt.rcParams.update({'image.cmap': 'viridis'})\n",
    "cc = plt.rcParams['axes.prop_cycle'].by_key()['color']\n",
    "plt.rcParams.update({'font.serif':['Times New Roman', 'Times', 'DejaVu Serif',\n",
    " 'Bitstream Vera Serif', 'Computer Modern Roman', 'New Century Schoolbook',\n",
    " 'Century Schoolbook L',  'Utopia', 'ITC Bookman', 'Bookman',\n",
    " 'Nimbus Roman No9 L', 'Palatino', 'Charter', 'serif']})\n",
    "plt.rcParams.update({'font.family':'serif'})\n",
    "plt.rcParams.update({'font.size': 10})\n",
    "plt.rcParams.update({'mathtext.fontset': 'custom'})\n",
    "plt.rcParams.update({'mathtext.rm': 'serif'})\n",
    "plt.rcParams.update({'mathtext.it': 'serif:italic'})\n",
    "plt.rcParams.update({'mathtext.bf': 'serif:bold'})\n",
    "plt.close('all')"
   ]
  },
  {
   "cell_type": "code",
   "execution_count": 3,
   "id": "10329038",
   "metadata": {},
   "outputs": [
    {
     "name": "stderr",
     "output_type": "stream",
     "text": [
      "C:\\Users\\dncob\\anaconda3\\lib\\site-packages\\matplotlib\\animation.py:973: UserWarning: Animation was deleted without rendering anything. This is most likely unintended. To prevent deletion, assign the Animation to a variable that exists for as long as you need the Animation.\n",
      "  warnings.warn(\n"
     ]
    },
    {
     "data": {
      "image/png": "[encoded data removed]",
      "text/plain": [
       "<Figure size 360x288 with 1 Axes>"
      ]
     },
     "metadata": {
      "needs_background": "light"
     },
     "output_type": "display_data"
    }
   ],
   "source": []
  },
  {
   "cell_type": "code",
   "execution_count": null,
   "id": "773444df",
   "metadata": {},
   "outputs": [],
   "source": []
  }
 ],
 "metadata": {
  "kernelspec": {
   "display_name": "Python 3 (ipykernel)",
   "language": "python",
   "name": "python3"
  },
  "language_info": {
   "codemirror_mode": {
    "name": "ipython",
    "version": 3
   },
   "file_extension": ".py",
   "mimetype": "text/x-python",
   "name": "python",
   "nbconvert_exporter": "python",
   "pygments_lexer": "ipython3",
   "version": "3.9.7"
  }
 },
 "nbformat": 4,
 "nbformat_minor": 5
}
