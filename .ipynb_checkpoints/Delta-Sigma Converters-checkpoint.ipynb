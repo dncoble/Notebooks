{
 "cells": [
  {
   "cell_type": "markdown",
   "id": "182edb0a",
   "metadata": {},
   "source": [
    "I'm basing this notebook on the explanation of delta-sigma converters given at [this](https://www.beis.de/Elektronik/DeltaSigma/DeltaSigma.html) website. As discussed on the website, there is no real difference between a delta-sigma ADC and delta-sigma DAC, except whether the individual components of the modulator and low pass filter are digital or analog. This being python, I'll be creating a Delta-Sigma DDC (digital-digital), solely for the purpose of disecting and understanding how it works.\n",
    "\n",
    "The basic scheme of a delta-sigma converter is as follows:\n",
    "\n",
    "Signal in -> Delta-Sigma modulator -> Bitstream -> Low Pass filter -> Signal out\n",
    "\n",
    "For an ADC, the signal in and delta-sigma modulator would be analog, and the low pass filter and signal out will be digital. For DACs, it would be the other way around. In either case, the bitstream is only contains high/low values. The  modulator, bistream, and low pass filter operate at a clock cycle much faster than the outside signal (64x or 128x the digital signal).\n",
    "\n",
    "The modulator:\n"
   ]
  },
  {
   "cell_type": "code",
   "execution_count": null,
   "id": "f382bc6d",
   "metadata": {},
   "outputs": [],
   "source": [
    "import numpy as np\n",
    "\n",
    "time = np.linspace()"
   ]
  }
 ],
 "metadata": {
  "kernelspec": {
   "display_name": "Python 3 (ipykernel)",
   "language": "python",
   "name": "python3"
  },
  "language_info": {
   "codemirror_mode": {
    "name": "ipython",
    "version": 3
   },
   "file_extension": ".py",
   "mimetype": "text/x-python",
   "name": "python",
   "nbconvert_exporter": "python",
   "pygments_lexer": "ipython3",
   "version": "3.9.7"
  }
 },
 "nbformat": 4,
 "nbformat_minor": 5
}
