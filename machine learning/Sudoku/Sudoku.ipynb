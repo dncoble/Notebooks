{
 "cells": [
  {
   "cell_type": "markdown",
   "id": "834473ec",
   "metadata": {},
   "source": [
    "<center>\n",
    "    \n",
    "    Sudoku\n",
    "    \n",
    "    Author: Daniel Coble\n",
    "    \n",
    "    Status: Work in progress\n",
    "</center>"
   ]
  },
  {
   "cell_type": "markdown",
   "id": "88db7c88",
   "metadata": {},
   "source": [
    "Sudoku solving by hand uses some quite [involved logic](https://www.ijcsi.org/papers/IJCSI-11-2-1-247-253.pdf) in recognizing patterns to eliminate possible digits from each position, and eventually determine the solution. Programming all of these patterns would be cumbersome, but much of the work can be done by using two tricks, which I am calling inclusive and exclusive set logic.\n",
    "\n",
    "A sudoku board consists of 27 sets of 9 elements. Each element is a digit 1-9, which appears exactly once in each set. Exclusive logic is very easy. If we know that a certain digit must exist in the intersection between set $A$ and set $B$, $A\\cap B$,then that digit cannot exist in the compliments of those two sets $A-B$ or $B-A$.\n",
    "\n",
    "Inclusive logic, called twins, triplets, etc. in sudoku, is a bit harder to understand. If we have a set $A$, and a subset of elements $B\\subset A$, and there exists a subset of digits $D$  such that all digits of $D$ in $A$ are also in $B$, and $||B||=||D||$, no digits outside $D$ may exist in $B$.\n",
    "\n",
    "In this notebook, I create an object oriented way to solve sudoku using the logic described above. Sudoku is represented as a specific instance of a graph coloring problem with multiedges. The solver repeatedly checks for exclusive logic, then inclusive logic. Finally, after if it cannot detect any more logic, it attempts soft brute forcing by assuming and digit and searching for a contradiction. Soft brute forcing is a recursive procedure."
   ]
  },
  {
   "cell_type": "code",
   "execution_count": null,
   "id": "21f5c64b",
   "metadata": {},
   "outputs": [],
   "source": [
    "import numpy as np\n",
    "class Cell():\n",
    "    '''\n",
    "    notes: np array of bools, True if it is deemed possible for that number to be in the cell\n",
    "    '''\n",
    "    def __init__(notes):\n",
    "        self.notes = notes\n",
    "        self.solved = np.sum(notes) == 1\n",
    "\n",
    "\n",
    "\n",
    "class Sudoku:\n",
    "    \n",
    "    def __init__(board):\n",
    "        \n",
    "        self.notes = np.zeros((9,9,9), dtype=bool)\n",
    "        "
   ]
  }
 ],
 "metadata": {
  "kernelspec": {
   "display_name": "Python 3 (ipykernel)",
   "language": "python",
   "name": "python3"
  },
  "language_info": {
   "codemirror_mode": {
    "name": "ipython",
    "version": 3
   },
   "file_extension": ".py",
   "mimetype": "text/x-python",
   "name": "python",
   "nbconvert_exporter": "python",
   "pygments_lexer": "ipython3",
   "version": "3.9.7"
  }
 },
 "nbformat": 4,
 "nbformat_minor": 5
}
