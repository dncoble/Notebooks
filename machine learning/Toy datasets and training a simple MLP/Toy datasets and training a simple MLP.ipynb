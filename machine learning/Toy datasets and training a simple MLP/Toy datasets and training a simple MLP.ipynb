{
 "cells": [
  {
   "cell_type": "markdown",
   "id": "004415a0",
   "metadata": {},
   "source": [
    "<center>\n",
    "    \n",
    "    Toy datasets and training a simple MLP\n",
    "    \n",
    "    Author: Daniel Coble\n",
    "    \n",
    "    Status: Finished\n",
    "</center>"
   ]
  },
  {
   "cell_type": "markdown",
   "id": "24784b4b",
   "metadata": {},
   "source": [
    "When I first started working with neural nets, I made this project as an exercise and to get familiar with how they work. The typical introduction to machine learning will use a dataset like MNIST. I think that's fine, and it helps students understand NNs applicability, but I also like the idea of creating our own dataset to train the NN against. Then you have to understand how to process the vectors that are inputs into the NN, and it can be an introduction to preprocessing. \n",
    "\n",
    "In this project, we create a toy dataset which consists of a 32x32 black and white pixel grid (similar to MNIST), but in this dataset each image contains two lines. It will be the goal of the NN to predict where those two lines will intersect. Therefore, the output is a vector of two elements, and the cost function is this point's distance from the correct point."
   ]
  },
  {
   "cell_type": "markdown",
   "id": "df2abb8b",
   "metadata": {},
   "source": [
    "Below I create the dataset. There are different ways to create the dataset that will affect the distribution of points and lines. I first select the point anywhere in the grid, then select lines. The lines are chosen from a uniform distribution after \n",
    "the point was selected."
   ]
  },
  {
   "cell_type": "code",
   "execution_count": 16,
   "id": "8b63903d",
   "metadata": {
    "scrolled": false
   },
   "outputs": [
    {
     "name": "stdout",
     "output_type": "stream",
     "text": [
      "10% finished.\n",
      "20% finished.\n",
      "30% finished.\n",
      "40% finished.\n",
      "50% finished.\n",
      "60% finished.\n",
      "70% finished.\n",
      "80% finished.\n",
      "90% finished.\n",
      "100% finished.\n"
     ]
    }
   ],
   "source": [
    "import numpy as np\n",
    "import matplotlib.pyplot as plt\n",
    "import matplotlib as mpl\n",
    "import math\n",
    "import random\n",
    "import tensorflow as tf\n",
    "import tensorflow.keras as keras\n",
    "from tensorflow.keras import losses\n",
    "from math import floor\n",
    "from sklearn import model_selection\n",
    "\n",
    "\n",
    "def createplot():\n",
    "    length = .3\n",
    "    length_sq = length**2\n",
    "    point = [random.random(), random.random()]\n",
    "    x1 = random.random()\n",
    "    y1 = random.random()\n",
    "    no_space_line_1 = True\n",
    "    while(no_space_line_1):\n",
    "        no_space_line_1 = False\n",
    "        dist1 = (x1-point[0])**2 + (y1-point[1])**2\n",
    "        if(dist1 < length_sq):\n",
    "            no_space_line_1 = True\n",
    "            x1 = random.random()\n",
    "            y1 = random.random()\n",
    "    x2 = random.random()\n",
    "    y2 = random.random()\n",
    "    no_space_line_2 = True\n",
    "    while(no_space_line_2):\n",
    "        no_space_line_2 = False\n",
    "        dist2 = (x2-point[0])**2 + (y2-point[1])**2\n",
    "        if(dist2 < length**2):\n",
    "            no_space_line_2 = True\n",
    "            x2 = random.random()\n",
    "            y2 = random.random()\n",
    "    \n",
    "    dist1 = math.sqrt(dist1)\n",
    "    dist2 = math.sqrt(dist2)\n",
    "    lineseg_1 = np.array([[x1,y1],[x1 + length*(point[0] - x1)/dist1,y1 + length*(point[1] - y1)/dist1]])\n",
    "    lineseg_2 = np.array([[x2,y2],[x2 + length*(point[0] - x2)/dist2,y2 + length*(point[1] - y2)/dist2]])\n",
    "    lineseg_1 = 32*lineseg_1\n",
    "    lineseg_2 = 32*lineseg_2\n",
    "    delta_x = 0.01 * (lineseg_1[1,0] - lineseg_1[0,0])\n",
    "    delta_y = 0.01 * (lineseg_1[1,1] - lineseg_1[0,1])\n",
    "    x1 *= 32\n",
    "    y1 *= 32\n",
    "    \n",
    "    plot = np.zeros(shape=(32,32))\n",
    "    for i in range(100):\n",
    "        x_index = floor(x1 + i*delta_x)\n",
    "        y_index = floor(y1 + i*delta_y)\n",
    "        plot[x_index, y_index] += .0678822\n",
    "    \n",
    "    x2 *= 32\n",
    "    y2 *= 32\n",
    "    delta_x = 0.01 * (lineseg_2[1,0] - lineseg_2[0,0])\n",
    "    delta_y = 0.01 * (lineseg_2[1,1] - lineseg_2[0,1])\n",
    "    \n",
    "    for i in range(100):\n",
    "        x_index = floor(x2 + i*delta_x)\n",
    "        y_index = floor(y2 + i*delta_y)\n",
    "        plot[x_index, y_index] += .0678822\n",
    "    \n",
    "    return (plot, point)\n",
    "    \n",
    "        \n",
    "\n",
    "amount = 100000\n",
    "data = []\n",
    "for i in range(amount):\n",
    "    if((i+1) % (amount//10) == 0):\n",
    "        print(str(round((i+1) / amount * 100)) + \"% finished.\")\n",
    "    data.append(createplot())\n",
    "plots = np.array([data[i][0] for i in range(amount)])\n",
    "points = np.array([data[i][1] for i in range(amount)])\n",
    "\n",
    "train_img, test_img, train_label, test_label = model_selection.train_test_split(plots, points, test_size=.2)\n",
    "\n",
    "\n",
    "#np.save(\"./dataset/train_img\", train_img)\n",
    "#np.save(\"./dataset/test_img\",test_img)\n",
    "#np.save(\"./dataset/train_label\", train_label)\n",
    "#np.save(\"./dataset/test_label\", test_label)"
   ]
  },
  {
   "cell_type": "markdown",
   "id": "1a0f909b",
   "metadata": {},
   "source": [
    "To understand what this dataset looks like, let's plot out a few elements from the dataset."
   ]
  },
  {
   "cell_type": "code",
   "execution_count": 17,
   "id": "9593ffae",
   "metadata": {},
   "outputs": [
    {
     "data": {
      "image/png": "[encoded data removed]",
      "text/plain": [
       "<Figure size 432x288 with 1 Axes>"
      ]
     },
     "metadata": {
      "needs_background": "light"
     },
     "output_type": "display_data"
    },
    {
     "data": {
      "image/png": "[encoded data removed]",
      "text/plain": [
       "<Figure size 432x288 with 1 Axes>"
      ]
     },
     "metadata": {
      "needs_background": "light"
     },
     "output_type": "display_data"
    },
    {
     "data": {
      "image/png": "[encoded data removed]",
      "text/plain": [
       "<Figure size 432x288 with 1 Axes>"
      ]
     },
     "metadata": {
      "needs_background": "light"
     },
     "output_type": "display_data"
    },
    {
     "data": {
      "image/png": "[encoded data removed]",
      "text/plain": [
       "<Figure size 432x288 with 1 Axes>"
      ]
     },
     "metadata": {
      "needs_background": "light"
     },
     "output_type": "display_data"
    }
   ],
   "source": [
    "for i in range(4):\n",
    "    randint = random.randint(0,2000)\n",
    "    true = test_label[randint] \n",
    "    plt.figure()\n",
    "    plt.imshow(test_img[randint], cmap=mpl.cm.binary, interpolation = 'nearest', origin='lower', extent=[0,1,0,1])\n",
    "    plt.grid(False)\n",
    "    plt.plot(true[1], true[0], marker='x', markersize=12, color=\"red\")\n",
    "    plt.show()"
   ]
  },
  {
   "cell_type": "code",
   "execution_count": 18,
   "id": "86f3eba5",
   "metadata": {},
   "outputs": [
    {
     "name": "stdout",
     "output_type": "stream",
     "text": [
      "Epoch 1/20\n",
      "2500/2500 [==============================] - 2s 829us/step - loss: 0.0521 - accuracy: 0.7342\n",
      "Epoch 2/20\n",
      "2500/2500 [==============================] - 2s 858us/step - loss: 0.0379 - accuracy: 0.8017\n",
      "Epoch 3/20\n",
      "2500/2500 [==============================] - 2s 821us/step - loss: 0.0334 - accuracy: 0.8133\n",
      "Epoch 4/20\n",
      "2500/2500 [==============================] - 2s 805us/step - loss: 0.0300 - accuracy: 0.8212\n",
      "Epoch 5/20\n",
      "2500/2500 [==============================] - 2s 820us/step - loss: 0.0277 - accuracy: 0.8288\n",
      "Epoch 6/20\n",
      "2500/2500 [==============================] - 2s 821us/step - loss: 0.0258 - accuracy: 0.8342\n",
      "Epoch 7/20\n",
      "2500/2500 [==============================] - 2s 824us/step - loss: 0.0245 - accuracy: 0.8392\n",
      "Epoch 8/20\n",
      "2500/2500 [==============================] - 2s 860us/step - loss: 0.0234 - accuracy: 0.8431\n",
      "Epoch 9/20\n",
      "2500/2500 [==============================] - 2s 823us/step - loss: 0.0224 - accuracy: 0.8469\n",
      "Epoch 10/20\n",
      "2500/2500 [==============================] - 2s 823us/step - loss: 0.0216 - accuracy: 0.8502\n",
      "Epoch 11/20\n",
      "2500/2500 [==============================] - 2s 808us/step - loss: 0.0209 - accuracy: 0.8518\n",
      "Epoch 12/20\n",
      "2500/2500 [==============================] - 2s 811us/step - loss: 0.0203 - accuracy: 0.8544\n",
      "Epoch 13/20\n",
      "2500/2500 [==============================] - 2s 861us/step - loss: 0.0197 - accuracy: 0.8576\n",
      "Epoch 14/20\n",
      "2500/2500 [==============================] - 3s 1ms/step - loss: 0.0192 - accuracy: 0.8594\n",
      "Epoch 15/20\n",
      "2500/2500 [==============================] - 2s 959us/step - loss: 0.0187 - accuracy: 0.8613\n",
      "Epoch 16/20\n",
      "2500/2500 [==============================] - 2s 953us/step - loss: 0.0183 - accuracy: 0.8625\n",
      "Epoch 17/20\n",
      "2500/2500 [==============================] - 2s 879us/step - loss: 0.0179 - accuracy: 0.8652\n",
      "Epoch 18/20\n",
      "2500/2500 [==============================] - 2s 820us/step - loss: 0.0176 - accuracy: 0.8659\n",
      "Epoch 19/20\n",
      "2500/2500 [==============================] - 2s 821us/step - loss: 0.0173 - accuracy: 0.8669\n",
      "Epoch 20/20\n",
      "2500/2500 [==============================] - 2s 812us/step - loss: 0.0169 - accuracy: 0.8693\n"
     ]
    },
    {
     "data": {
      "text/plain": [
       "<keras.callbacks.History at 0x26c3302e490>"
      ]
     },
     "execution_count": 18,
     "metadata": {},
     "output_type": "execute_result"
    }
   ],
   "source": [
    "import numpy as np\n",
    "import matplotlib.pyplot as plt\n",
    "import math\n",
    "import random\n",
    "import tensorflow as tf\n",
    "import tensorflow.keras as keras\n",
    "from tensorflow.keras import losses\n",
    "\n",
    "\n",
    "#train_img = np.load(\"./dataset/train_img.npy\")\n",
    "#train_label = np.load(\"./dataset/train_label.npy\")\n",
    "#test_img = np.load(\"./dataset/test_img.npy\")\n",
    "#test_label = np.load(\"./dataset/test_label.npy\")\n",
    "\n",
    "model = keras.Sequential([\n",
    "    tf.keras.layers.Flatten(input_shape=(32, 32)),\n",
    "    tf.keras.layers.Dense(32, activation='relu'),\n",
    "    tf.keras.layers.Dense(32, activation='relu'),\n",
    "    tf.keras.layers.Dense(32, activation='relu'),\n",
    "    tf.keras.layers.Dense(2)\n",
    "])\n",
    "\n",
    "model.compile(optimizer='adam',\n",
    "              loss=tf.keras.losses.MeanSquaredError(),\n",
    "              metrics=['accuracy'])\n",
    "\n",
    "model.fit(train_img, train_label, epochs=20)"
   ]
  },
  {
   "cell_type": "markdown",
   "id": "1eff6590",
   "metadata": {},
   "source": [
    "Now let's plot a few of the model's predictions on the test data to see how it did."
   ]
  },
  {
   "cell_type": "code",
   "execution_count": 21,
   "id": "f98515dd",
   "metadata": {},
   "outputs": [
    {
     "data": {
      "image/png": "[encoded data removed]",
      "text/plain": [
       "<Figure size 432x288 with 1 Axes>"
      ]
     },
     "metadata": {
      "needs_background": "light"
     },
     "output_type": "display_data"
    },
    {
     "data": {
      "image/png": "[encoded data removed]",
      "text/plain": [
       "<Figure size 432x288 with 1 Axes>"
      ]
     },
     "metadata": {
      "needs_background": "light"
     },
     "output_type": "display_data"
    },
    {
     "data": {
      "image/png": "[encoded data removed]",
      "text/plain": [
       "<Figure size 432x288 with 1 Axes>"
      ]
     },
     "metadata": {
      "needs_background": "light"
     },
     "output_type": "display_data"
    },
    {
     "data": {
      "image/png": "[encoded data removed]",
      "text/plain": [
       "<Figure size 432x288 with 1 Axes>"
      ]
     },
     "metadata": {
      "needs_background": "light"
     },
     "output_type": "display_data"
    }
   ],
   "source": [
    "predictions = model.predict(test_img)\n",
    "for i in range(4):\n",
    "    randint = random.randint(0,2000)\n",
    "    true = test_label[randint]\n",
    "    pred = predictions[randint]\n",
    "    plt.figure()\n",
    "    plt.imshow(test_img[randint], cmap=mpl.cm.binary, interpolation = 'nearest', origin='lower', extent=[0,1,0,1])\n",
    "    plt.grid(False)\n",
    "    plt.plot(true[1], true[0], marker='x', markersize=12, color=\"red\")\n",
    "    plt.plot(pred[1], pred[0], marker='o', markersize=10, color=\"blue\")\n",
    "    plt.show()"
   ]
  },
  {
   "cell_type": "markdown",
   "id": "04f30f4d",
   "metadata": {},
   "source": [
    "For this model, we can check for overfitting by comparing the accuracy on training data and accuracy on testing data. A good measure for how worried you should be about overfitting is to compare the size of the test data to the amount of weights. I do both below. "
   ]
  },
  {
   "cell_type": "code",
   "execution_count": 20,
   "id": "f4588dc1",
   "metadata": {},
   "outputs": [
    {
     "name": "stdout",
     "output_type": "stream",
     "text": [
      "Training accuracy: 0.8762500286102295\n",
      "Test accuracy:  0.8281499743461609\n",
      "Amount of weights:  34978\n",
      "Training set size:  80000\n"
     ]
    }
   ],
   "source": [
    "train_loss, train_acc = model.evaluate(train_img,  train_label, verbose=0)\n",
    "test_loss, test_acc = model.evaluate(test_img, test_label, verbose=0)\n",
    "print('Training accuracy:', train_acc)\n",
    "print('Test accuracy: ', test_acc)\n",
    "\n",
    "weight_sum = 0\n",
    "for weights in model.trainable_weights:\n",
    "    weight_sum += np.size(weights)\n",
    "print(\"Amount of weights: \", weight_sum)\n",
    "print(\"Training set size: \", train_img.shape[0])"
   ]
  },
  {
   "cell_type": "markdown",
   "id": "9521f347",
   "metadata": {},
   "source": [
    "I think something like this could be a good homework assignment for a machine learning class. \n",
    "\n",
    "1. Create a dataset on the computer (should have the ability to create as many elements as you want)\n",
    "2. Train an NN on this dataset. \n",
    "\n",
    "Here are a few examples:\n",
    "1. Create a dataset with sine waves of varying amplitude and period/frequency. Have the model predict frequency/amplitude. (See my \"training an LSTM\" notebook.\n",
    "2. Create a vector of a few elements between -1 and 1. Have the model guess what the second largest element is. Try using different activation functions and see which one works best.\n",
    "3. You could create any arbitrary multivariable function (maybe a polynomial), and see how well the model can approximate the function. Try using different activation functions, and visually representing the results.\n"
   ]
  }
 ],
 "metadata": {
  "kernelspec": {
   "display_name": "Python 3 (ipykernel)",
   "language": "python",
   "name": "python3"
  },
  "language_info": {
   "codemirror_mode": {
    "name": "ipython",
    "version": 3
   },
   "file_extension": ".py",
   "mimetype": "text/x-python",
   "name": "python",
   "nbconvert_exporter": "python",
   "pygments_lexer": "ipython3",
   "version": "3.9.7"
  }
 },
 "nbformat": 4,
 "nbformat_minor": 5
}
