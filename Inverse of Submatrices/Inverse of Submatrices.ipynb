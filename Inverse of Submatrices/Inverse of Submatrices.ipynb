{
 "cells": [
  {
   "cell_type": "markdown",
   "id": "8381d6c0",
   "metadata": {},
   "source": [
    "<center>\n",
    "    \n",
    "    Inverse of Submatrices\n",
    "    \n",
    "    Author: Daniel Coble\n",
    "    \n",
    "    Status: Finished\n",
    "</center>"
   ]
  },
  {
   "cell_type": "markdown",
   "id": "b2ebe39e",
   "metadata": {},
   "source": [
    "I show an implementation of the method shown in [this](https://stats.stackexchange.com/questions/450146/updating-the-inverse-covariance-matrix-after-deleting-the-i-th-column-and-row-of) stackexchange post, which shows how to use a matix's inverse to calculate the inverse after row and column $i$ are removed."
   ]
  },
  {
   "cell_type": "code",
   "execution_count": 107,
   "id": "6268565c",
   "metadata": {},
   "outputs": [],
   "source": [
    "import numpy as np\n",
    "'''\n",
    "_A_inv: inverse of supermatrix\n",
    "rem_rows: row or rows that are removed to create the submatrix\n",
    "rem_cols: column or columns that are removed to create the submatrix. Right now the code only works with rem_cols=rem_rows\n",
    "_A_: supermatrix (not needed but if you pass it, the submatrix A is returned)\n",
    "'''\n",
    "def invert_submatrix(_A_inv, rem_rows, rem_cols=None, _A_=None):\n",
    "    rem_cols = rem_rows\n",
    "    if(isinstance(rem_rows, int)):\n",
    "        rem_rows = [rem_rows]\n",
    "    if(isinstance(rem_cols, int)):\n",
    "        rem_cols = [rem_cols]\n",
    "    if(not type(rem_rows) is np.ndarray):\n",
    "        rem_rows = np.array(rem_rows)\n",
    "    if(not type(rem_cols) is np.ndarray):\n",
    "        rem_cols = np.array(rem_cols)\n",
    "    assert np.size(rem_rows) == np.size(rem_cols)\n",
    "    k = np.size(rem_rows)\n",
    "    \n",
    "    a = _A_inv\n",
    "    a = np.delete(_A_inv, rem_rows, axis=0)\n",
    "    a = np.delete(a, rem_cols, axis=1)\n",
    "    \n",
    "    b = np.column_stack([_A_inv[:,i] for i in rem_cols])\n",
    "    c = np.row_stack([_A_inv[[i],:] for i in rem_rows])\n",
    "    d = np.row_stack([b[i,:] for i in rem_rows])\n",
    "    b = np.delete(b, rem_rows, axis=0)\n",
    "    c = np.delete(c, rem_cols, axis=1)\n",
    "    \n",
    "    return a - b@np.linalg.inv(d)@c"
   ]
  },
  {
   "cell_type": "code",
   "execution_count": 109,
   "id": "a735c3e0",
   "metadata": {},
   "outputs": [],
   "source": [
    "_A_ = np.random.rand(5, 5)\n",
    "_A_inv = np.linalg.inv(_A_)\n",
    "rem_rows = [1]\n",
    "\n",
    "A = np.delete(np.delete(_A_, 1, axis=0), 1, axis=1)\n",
    "A_inv = np.linalg.inv(A)\n",
    "\n",
    "assert np.allclose(A_inv, invert_submatrix(_A_inv, rem_rows))"
   ]
  },
  {
   "cell_type": "code",
   "execution_count": 22,
   "id": "f839c6a2",
   "metadata": {},
   "outputs": [],
   "source": [
    "import numpy as np\n",
    "def invert_submatrix(_A_inv, rem_rows, rem_cols=None, _A_=None):\n",
    "    if(isinstance(rem_rows, int)):\n",
    "        rem_rows = [rem_rows]\n",
    "    if(isinstance(rem_cols, int)):\n",
    "        rem_cols = [rem_cols]\n",
    "    if(not type(rem_rows) is np.ndarray):\n",
    "        rem_rows = np.array(rem_rows)\n",
    "    if(not type(rem_cols) is np.ndarray):\n",
    "        rem_cols = np.array(rem_cols)\n",
    "    assert np.size(rem_rows) == np.size(rem_cols)\n",
    "    k = np.size(rem_rows)\n",
    "    \n",
    "    A = None\n",
    "    if(not _A_ is None):\n",
    "        A = np.delete(_A_, rem_rows, axis=0)\n",
    "        A = np.delete(A, rem_cols, axis=1)\n",
    "    \n",
    "    a = _A_inv\n",
    "    a = np.delete(_A_inv, rem_rows, axis=0)\n",
    "    a = np.delete(a, rem_cols, axis=1)\n",
    "    \n",
    "    b = np.column_stack([_A_inv[:,i] for i in rem_cols])\n",
    "    c = np.row_stack([_A_inv[[i],:] for i in rem_rows])\n",
    "    d = np.row_stack([b[i,:] for i in rem_rows])\n",
    "    b = np.delete(b, rem_rows, axis=0)\n",
    "    c = np.delete(c, rem_cols, axis=1)\n",
    "    \n",
    "    Ainv = a - b@np.linalg.inv(d)@c\n",
    "    if(not A is None):\n",
    "        return (Ainv, A)\n",
    "    return Ainv\n",
    "\n",
    "\n",
    "_A_ = np.random.rand(5, 5)\n",
    "_A_inv = np.linalg.inv(_A_)\n",
    "rem_rows = [1]\n",
    "rem_cols = [2]\n",
    "\n",
    "Ainv, A = invert_submatrix(_A_inv, rem_rows, rem_cols, _A_)"
   ]
  },
  {
   "cell_type": "code",
   "execution_count": 23,
   "id": "e8a8d432",
   "metadata": {},
   "outputs": [
    {
     "data": {
      "text/plain": [
       "array([[-2.61222745,  3.88601845, -1.18444947,  0.19935649],\n",
       "       [ 1.33791441, -1.39195135, -2.43648608,  0.94505613],\n",
       "       [ 2.68920853, -1.07827884, -2.11734837, -0.61828273],\n",
       "       [ 0.72321397, -2.61101662,  4.80492123,  0.03097552]])"
      ]
     },
     "execution_count": 23,
     "metadata": {},
     "output_type": "execute_result"
    }
   ],
   "source": [
    "Ainv"
   ]
  },
  {
   "cell_type": "code",
   "execution_count": 24,
   "id": "4f5fc523",
   "metadata": {},
   "outputs": [
    {
     "data": {
      "text/plain": [
       "array([[-4.86394674,  5.88105885, -3.36064609,  1.90552609],\n",
       "       [-1.41460189,  1.3895984 ,  1.09303199, -0.22026765],\n",
       "       [ 0.28441929,  1.34418393,  0.82739191, -1.56344191],\n",
       "       [ 6.95074749, -8.58275559,  2.62423756, -0.38128943]])"
      ]
     },
     "execution_count": 24,
     "metadata": {},
     "output_type": "execute_result"
    }
   ],
   "source": [
    "np.linalg.inv(A)"
   ]
  },
  {
   "cell_type": "code",
   "execution_count": 12,
   "id": "843bb36c",
   "metadata": {},
   "outputs": [
    {
     "data": {
      "text/plain": [
       "array([[0.96020603, 0.88692717, 0.10210345, 0.4752087 ],\n",
       "       [0.6017152 , 0.85413868, 0.27695666, 0.24717578],\n",
       "       [0.05723689, 0.42407753, 0.96334846, 0.85806172],\n",
       "       [0.07703119, 0.37504911, 0.41835966, 0.52561045]])"
      ]
     },
     "execution_count": 12,
     "metadata": {},
     "output_type": "execute_result"
    }
   ],
   "source": [
    "A"
   ]
  },
  {
   "cell_type": "code",
   "execution_count": 13,
   "id": "61007407",
   "metadata": {},
   "outputs": [
    {
     "data": {
      "text/plain": [
       "array([[9.60206026e-01, 8.86927167e-01, 8.15334157e-01, 1.02103451e-01,\n",
       "        4.75208696e-01],\n",
       "       [3.38630415e-02, 5.86541892e-02, 6.32349610e-01, 5.52853053e-01,\n",
       "        1.90989900e-01],\n",
       "       [6.01715200e-01, 8.54138681e-01, 7.78135662e-04, 2.76956661e-01,\n",
       "        2.47175780e-01],\n",
       "       [5.72368907e-02, 4.24077534e-01, 6.88933200e-01, 9.63348464e-01,\n",
       "        8.58061724e-01],\n",
       "       [7.70311886e-02, 3.75049115e-01, 9.75932703e-01, 4.18359661e-01,\n",
       "        5.25610450e-01]])"
      ]
     },
     "execution_count": 13,
     "metadata": {},
     "output_type": "execute_result"
    }
   ],
   "source": [
    "_A_"
   ]
  },
  {
   "cell_type": "code",
   "execution_count": 19,
   "id": "79b707e0",
   "metadata": {},
   "outputs": [
    {
     "data": {
      "text/plain": [
       "array([[ 1.00000000e+00, -4.44089210e-16,  1.11022302e-16,\n",
       "         0.00000000e+00],\n",
       "       [ 0.00000000e+00,  1.00000000e+00,  0.00000000e+00,\n",
       "         0.00000000e+00],\n",
       "       [ 0.00000000e+00, -1.77635684e-15,  1.00000000e+00,\n",
       "         0.00000000e+00],\n",
       "       [-8.88178420e-16, -8.88178420e-16,  0.00000000e+00,\n",
       "         1.00000000e+00]])"
      ]
     },
     "execution_count": 19,
     "metadata": {},
     "output_type": "execute_result"
    }
   ],
   "source": [
    "A@Ainv"
   ]
  },
  {
   "cell_type": "code",
   "execution_count": null,
   "id": "11576145",
   "metadata": {},
   "outputs": [],
   "source": []
  }
 ],
 "metadata": {
  "kernelspec": {
   "display_name": "Python 3 (ipykernel)",
   "language": "python",
   "name": "python3"
  },
  "language_info": {
   "codemirror_mode": {
    "name": "ipython",
    "version": 3
   },
   "file_extension": ".py",
   "mimetype": "text/x-python",
   "name": "python",
   "nbconvert_exporter": "python",
   "pygments_lexer": "ipython3",
   "version": "3.10.12"
  }
 },
 "nbformat": 4,
 "nbformat_minor": 5
}
