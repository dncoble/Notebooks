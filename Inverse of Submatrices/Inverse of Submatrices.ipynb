{
 "cells": [
  {
   "cell_type": "markdown",
   "id": "8381d6c0",
   "metadata": {},
   "source": [
    "<center>\n",
    "    \n",
    "    Inverse of Submatrices\n",
    "    \n",
    "    Author: Daniel Coble\n",
    "    \n",
    "    Status: Finished\n",
    "</center>"
   ]
  },
  {
   "cell_type": "markdown",
   "id": "b2ebe39e",
   "metadata": {},
   "source": [
    "I show an implementation of the method shown in [this](https://stats.stackexchange.com/questions/450146/updating-the-inverse-covariance-matrix-after-deleting-the-i-th-column-and-row-of) stackexchange post, which shows how to use a matix's inverse to calculate the inverse after row and column $i$ are removed."
   ]
  },
  {
   "cell_type": "code",
   "execution_count": 107,
   "id": "6268565c",
   "metadata": {},
   "outputs": [],
   "source": [
    "import numpy as np\n",
    "'''\n",
    "_A_: supermatrix\n",
    "_A_inv: inverse of supermatrix\n",
    "rem_rows: row or rows that are removed to create the submatrix\n",
    "rem_cols: column or columns that are removed to create the submatrix. Right now the code only works with rem_cols=rem_rows\n",
    "'''\n",
    "def invert_submatrix(_A_inv, rem_rows, rem_cols=None):\n",
    "    rem_cols = rem_rows\n",
    "    if(isinstance(rem_rows, int)):\n",
    "        rem_rows = [rem_rows]\n",
    "    if(isinstance(rem_cols, int)):\n",
    "        rem_cols = [rem_cols]\n",
    "    if(not type(rem_rows) is np.ndarray):\n",
    "        rem_rows = np.array(rem_rows)\n",
    "    if(not type(rem_cols) is np.ndarray):\n",
    "        rem_cols = np.array(rem_cols)\n",
    "    assert np.size(rem_rows) == np.size(rem_cols)\n",
    "    k = np.size(rem_rows)\n",
    "    \n",
    "    a = _A_inv\n",
    "    a = np.delete(_A_inv, rem_rows, axis=0)\n",
    "    a = np.delete(a, rem_cols, axis=1)\n",
    "\n",
    "    b = np.column_stack([_A_inv[:,i] for i in rem_cols])\n",
    "    c = np.row_stack([_A_inv[[i],:] for i in rem_rows])\n",
    "    d = np.row_stack([b[i,:] for i in rem_rows])\n",
    "    b = np.delete(b, rem_rows, axis=0)\n",
    "    c = np.delete(c, rem_cols, axis=1)\n",
    "\n",
    "    return a - b@np.linalg.inv(d)@c"
   ]
  },
  {
   "cell_type": "code",
   "execution_count": 109,
   "id": "a735c3e0",
   "metadata": {},
   "outputs": [],
   "source": [
    "_A_ = np.random.rand(5, 5)\n",
    "_A_inv = np.linalg.inv(_A_)\n",
    "rem_rows = [1]\n",
    "\n",
    "A = np.delete(np.delete(_A_, 1, axis=0), 1, axis=1)\n",
    "A_inv = np.linalg.inv(A)\n",
    "\n",
    "assert np.allclose(A_inv, invert_submatrix(_A_inv, rem_rows))"
   ]
  }
 ],
 "metadata": {
  "kernelspec": {
   "display_name": "Python 3 (ipykernel)",
   "language": "python",
   "name": "python3"
  },
  "language_info": {
   "codemirror_mode": {
    "name": "ipython",
    "version": 3
   },
   "file_extension": ".py",
   "mimetype": "text/x-python",
   "name": "python",
   "nbconvert_exporter": "python",
   "pygments_lexer": "ipython3",
   "version": "3.10.12"
  }
 },
 "nbformat": 4,
 "nbformat_minor": 5
}
