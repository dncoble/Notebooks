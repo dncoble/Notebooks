{
 "cells": [
  {
   "cell_type": "markdown",
   "id": "810b8a26",
   "metadata": {},
   "source": [
    "<center>\n",
    "    \n",
    "    Discovery of ODE Variable Coefficients\n",
    "    \n",
    "    Author: Daniel Coble\n",
    "    \n",
    "    Status: Work in progress\n",
    "</center>"
   ]
  },
  {
   "cell_type": "markdown",
   "id": "d6346320",
   "metadata": {},
   "source": [
    "This notebook accompanies a write up on the same topic. See that for details, this notebook will be sparsely noted. Here I go through the case study of that write-up."
   ]
  },
  {
   "cell_type": "code",
   "execution_count": null,
   "id": "4730cc12",
   "metadata": {},
   "outputs": [],
   "source": []
  }
 ],
 "metadata": {
  "kernelspec": {
   "display_name": "Python 3 (ipykernel)",
   "language": "python",
   "name": "python3"
  },
  "language_info": {
   "codemirror_mode": {
    "name": "ipython",
    "version": 3
   },
   "file_extension": ".py",
   "mimetype": "text/x-python",
   "name": "python",
   "nbconvert_exporter": "python",
   "pygments_lexer": "ipython3",
   "version": "3.9.7"
  }
 },
 "nbformat": 4,
 "nbformat_minor": 5
}
