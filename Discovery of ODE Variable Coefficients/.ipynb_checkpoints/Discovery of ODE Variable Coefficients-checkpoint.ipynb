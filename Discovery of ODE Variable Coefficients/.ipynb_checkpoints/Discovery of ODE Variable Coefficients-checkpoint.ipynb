{
 "cells": [
  {
   "cell_type": "markdown",
   "id": "d26b6539",
   "metadata": {},
   "source": [
    "<center>\n",
    "    \n",
    "    Discovery of ODE Variable Coefficients\n",
    "    \n",
    "    Author: Daniel Coble\n",
    "    \n",
    "    Status: Work in progress\n",
    "</center>"
   ]
  },
  {
   "cell_type": "markdown",
   "id": "f07d8ff9",
   "metadata": {},
   "source": [
    "I'm making a write-up to accompany this notebook. See that for details, this notebook will be sparsely noted. I go through the "
   ]
  }
 ],
 "metadata": {
  "kernelspec": {
   "display_name": "Python 3 (ipykernel)",
   "language": "python",
   "name": "python3"
  },
  "language_info": {
   "codemirror_mode": {
    "name": "ipython",
    "version": 3
   },
   "file_extension": ".py",
   "mimetype": "text/x-python",
   "name": "python",
   "nbconvert_exporter": "python",
   "pygments_lexer": "ipython3",
   "version": "3.9.7"
  }
 },
 "nbformat": 4,
 "nbformat_minor": 5
}
