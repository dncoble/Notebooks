{
 "cells": [
  {
   "cell_type": "markdown",
   "id": "b81a43c2",
   "metadata": {},
   "source": [
    "<center>\n",
    "    \n",
    "    Discrete Dynamical Systems\n",
    "    \n",
    "    Author: Daniel Coble\n",
    "    \n",
    "    Status: Work in Progress\n",
    "</center>"
   ]
  },
  {
   "cell_type": "markdown",
   "id": "4230c423",
   "metadata": {},
   "source": [
    "Discrete dynamical systems are described by evolution $x_n = \n",
    "\n",
    "https://en.wikipedia.org/wiki/Logistic_map\n"
   ]
  }
 ],
 "metadata": {
  "kernelspec": {
   "display_name": "Python 3 (ipykernel)",
   "language": "python",
   "name": "python3"
  },
  "language_info": {
   "codemirror_mode": {
    "name": "ipython",
    "version": 3
   },
   "file_extension": ".py",
   "mimetype": "text/x-python",
   "name": "python",
   "nbconvert_exporter": "python",
   "pygments_lexer": "ipython3",
   "version": "3.9.7"
  }
 },
 "nbformat": 4,
 "nbformat_minor": 5
}
