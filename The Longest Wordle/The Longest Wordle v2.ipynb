{
 "cells": [
  {
   "cell_type": "markdown",
   "id": "d5b597b4",
   "metadata": {},
   "source": [
    "<center>\n",
    "    \n",
    "    The Longest Wordle\n",
    "    \n",
    "    Author: Daniel Coble\n",
    "    \n",
    "    Status: Work in Progress\n",
    "</center>"
   ]
  },
  {
   "cell_type": "markdown",
   "id": "d060bae9",
   "metadata": {},
   "source": [
    "The popular word game Wordle needs no introduction. The goal is to guess a secret word in as few guesses as possible, but what is the worst that someone could do at Wordle? For the problem to be well-defined and interesting, we have to specify *hard mode rules*, i.e. at every guess we can only guess another word which is valid. This is actually the premise of the Wordle variant, [Don't Wordle](https://dontwordle.com/), where the goal is to 'fail' Wordle under hard mode rules. By removing the six-word limit, we get the problem stated here, stated explicitly:\n",
    "1. At every guess, information about the secret word is revealed according to Wordle rules.\n",
    "2. All guesses must be valid words from the guessing word list and not be ruled out by previously revealed information.\n",
    "3. The goal is to perform as many guesses as possible. Play ends when the player is forced to guess the secret word.\n",
    "\n",
    "I say 'secret' word, but for our purposes, the guesser knowns the secret word before they begin. Mathematically, we represent this as a longest path search problem through a tree, where each node is a valid Wordle guess."
   ]
  },
  {
   "cell_type": "code",
   "execution_count": 2,
   "id": "45124868",
   "metadata": {},
   "outputs": [
    {
     "name": "stdout",
     "output_type": "stream",
     "text": [
      "(12546,)\n"
     ]
    }
   ],
   "source": [
    "import numpy as np\n",
    "import matplotlib.pyplot as plt\n",
    "plt.rcParams.update({'font.family':'monospace'})\n",
    "\"\"\"\n",
    "Load guesses and secret word lists from file into numpy array\n",
    "\n",
    "The list of official guesses and answers as published by Cyrus Freshman (as of 9/2/2022):\n",
    "\n",
    "allowed guesses: https://gist.github.com/cfreshman/d5fb56316158a1575898bba1eed3b5da\n",
    "possible answers: https://gist.github.com/cfreshman/a7b776506c73284511034e63af1017ee\n",
    "\"\"\"\n",
    "\n",
    "guess_words = np.loadtxt(\"guess_words.txt\", dtype=str)\n",
    "secret_words = np.loadtxt(\"secret_words.txt\", dtype=str)\n",
    "# guess list didn't contain secret_words\n",
    "guess_words = np.append(guess_words, secret_words)\n",
    "\n",
    "guess_words = np.array([[letter for letter in word] for word in guess_words]).astype('|S1')\n",
    "secret_words = np.array([[letter for letter in word] for word in secret_words]).astype('|S1')"
   ]
  },
  {
   "cell_type": "code",
   "execution_count": 13,
   "id": "274e9b67",
   "metadata": {},
   "outputs": [],
   "source": [
    "\"\"\"\n",
    "Calculate Wordle for a secret word and guess. The result is encoded as a five element array with \n",
    "0 = gray\n",
    "1 = yellow\n",
    "2 = green\n",
    "If asint=True, we take the result array and represent it as a ternary number.\n",
    "\n",
    "Wordle rules: Greens take precent over yellow. In the case of repeated letters in the guess, the earliest takes precendent.\n",
    "The same letter will only appear yellow with multiplicity if it appears with multiplicity in the secret word.\n",
    "\"\"\"\n",
    "def wordle(secret, guess, asint=False):\n",
    "    # first check greens\n",
    "    greens = secret == guess\n",
    "    # fill green spaces with blank to avoid showing as yellow\n",
    "    secret_ = np.array([' ' if greens[i] else secret[i] for i in range(5)]).astype(\"|S1\")\n",
    "    # yellow logic\n",
    "    yellows = np.zeros((5,))\n",
    "    for i, l in enumerate(guess):\n",
    "        if((not greens[i]) and (l in secret_)):\n",
    "            yellows[i] = 1\n",
    "            secret_[np.where(secret_ == l)[0]] = ' ' # first occurance of letter\n",
    "    rtrn = (yellows + 2*greens).astype(int)\n",
    "    if(asint):\n",
    "        return np.dot(rtrn, np.array([81, 27, 9, 3, 1]))\n",
    "    return rtrn\n",
    "\n",
    "\"\"\"\n",
    "Given the guesses and colors, visualize the Wordle game. Guesses and colors must be the same shape.\n",
    "\"\"\"\n",
    "def visualize(guesses, colors):\n",
    "    plt.figure(figsize=(5, guesses.shape[0]))\n",
    "    plt.xlim((-.5, 5))\n",
    "    plt.ylim((-guesses.shape[0], .5))\n",
    "    cc = ['lightgray', 'yellow', 'green']\n",
    "    for y in range(guesses.shape[0]):\n",
    "        for x in range(5):\n",
    "            plt.plot([x], [-y], marker='s', c=cc[colors[y, x]], markersize=50)\n",
    "            plt.text(x-.15, -y-.15, guesses[y, x].astype(str), fontsize=30)\n",
    "    plt.axis(\"off\")\n",
    "    plt.tight_layout()\n",
    "    plt.show()"
   ]
  },
  {
   "cell_type": "code",
   "execution_count": 3,
   "id": "3c0e24ae",
   "metadata": {},
   "outputs": [
    {
     "data": {
      "image/png": "[encoded data removed]",
      "text/plain": [
       "<Figure size 360x288 with 1 Axes>"
      ]
     },
     "metadata": {
      "needs_background": "light"
     },
     "output_type": "display_data"
    }
   ],
   "source": [
    "\"\"\"\n",
    "Play a Wordle game to test the above functions.\n",
    "\"\"\"\n",
    "secret = \"title\"\n",
    "guesses = [\"crumb\", \"guilt\", \"aisle\", \"title\"]\n",
    "\n",
    "secret = np.array([letter for letter in secret]).astype(\"|S1\")\n",
    "guesses = np.array([[letter for letter in word] for word in guesses]).astype('|S1')\n",
    "\n",
    "colors = np.array([wordle(secret, guess) for guess in guesses])\n",
    "\n",
    "visualize(guesses, colors)"
   ]
  },
  {
   "cell_type": "markdown",
   "id": "4398d155",
   "metadata": {},
   "source": [
    "Now that Wordle has been coded, we have to code a depth-first search of all hard-mode games. First, I precompute all possible pairs of (secret, guess) words and the Wordle coloring and save to a lookup table. Using asint=True, this becomes a 2D array of ints. The depth first search is produced as a recursive algorithm, which at every depth iteration, eliminates valid secret words until only the real secret word is left."
   ]
  },
  {
   "cell_type": "code",
   "execution_count": 5,
   "id": "73130798",
   "metadata": {},
   "outputs": [],
   "source": [
    "# This takes a long time to run. I save the results to lookup.npy\n",
    "lookup = np.zeros((guess_words.shape[0], guess_words.shape[0]), dtype=int)\n",
    "for i in range(guess_words.shape[0]):\n",
    "    for j in range(guess_words.shape[0]):\n",
    "        lookup[i,j] = wordle(guess_words[i], guess_words[j], asint=True)\n",
    "lookup = np.save(\"lookup.npy\", lookup)\n",
    "lookup = np.load(\"lookup.npy\")"
   ]
  },
  {
   "cell_type": "code",
   "execution_count": 7,
   "id": "ace89ba0",
   "metadata": {},
   "outputs": [],
   "source": [
    "\"\"\"\n",
    "Depth-first search.\n",
    "\"\"\"\n",
    "def depth_first_search(secret, guess, valid_secrets):\n",
    "    # base case: guess is secret\n",
    "    if(np.all(secret_words[secret] == guess_words[guess])):\n",
    "        return 0, []\n",
    "    # eliminate from valid secrets based on guess\n",
    "    colors = lookup[secret+12546, guess]\n",
    "    valid_secrets_ = valid_secrets[lookup[valid_secrets,guess] == colors]\n",
    "    # depth-first search\n",
    "    guess_list = []\n",
    "    depth = 0\n",
    "    for new_guess in valid_secrets_:\n",
    "        prop_depth, prop_guess_list = depth_first_search(secret, new_guess, valid_secrets_)\n",
    "        if(prop_depth + 1 > depth):\n",
    "            depth = prop_depth + 1; guess_list = [new_guess] + prop_guess_list\n",
    "    return depth, guess_list"
   ]
  },
  {
   "cell_type": "code",
   "execution_count": null,
   "id": "d4700221",
   "metadata": {},
   "outputs": [
    {
     "name": "stdout",
     "output_type": "stream",
     "text": [
      "200 done 0.000583 percent complete\n",
      "best found so far: depth 11 secret word aback\n",
      "guess list: added agogo ahuru allyl ajwan abaft abamp abaca abaci abacs aback\n",
      "400 done 0.001166 percent complete\n",
      "best found so far: depth 11 secret word aback\n",
      "guess list: added agogo ahuru allyl ajwan abaft abamp abaca abaci abacs aback\n",
      "600 done 0.001749 percent complete\n",
      "best found so far: depth 11 secret word aback\n",
      "guess list: added agogo ahuru allyl ajwan abaft abamp abaca abaci abacs aback\n",
      "800 done 0.002332 percent complete\n",
      "best found so far: depth 11 secret word aback\n",
      "guess list: added agogo ahuru allyl ajwan abaft abamp abaca abaci abacs aback\n",
      "1000 done 0.002915 percent complete\n",
      "best found so far: depth 11 secret word aback\n",
      "guess list: added agogo ahuru allyl ajwan abaft abamp abaca abaci abacs aback\n",
      "1200 done 0.003499 percent complete\n",
      "best found so far: depth 11 secret word aback\n",
      "guess list: added agogo ahuru allyl ajwan abaft abamp abaca abaci abacs aback\n",
      "1400 done 0.004082 percent complete\n",
      "best found so far: depth 11 secret word aback\n",
      "guess list: added agogo ahuru allyl ajwan abaft abamp abaca abaci abacs aback\n",
      "1600 done 0.004665 percent complete\n",
      "best found so far: depth 11 secret word aback\n",
      "guess list: added agogo ahuru allyl ajwan abaft abamp abaca abaci abacs aback\n",
      "1800 done 0.005248 percent complete\n",
      "best found so far: depth 11 secret word aback\n",
      "guess list: added agogo ahuru allyl ajwan abaft abamp abaca abaci abacs aback\n",
      "2000 done 0.005831 percent complete\n",
      "best found so far: depth 11 secret word aback\n",
      "guess list: added agogo ahuru allyl ajwan abaft abamp abaca abaci abacs aback\n",
      "2200 done 0.006414 percent complete\n",
      "best found so far: depth 11 secret word aback\n",
      "guess list: added agogo ahuru allyl ajwan abaft abamp abaca abaci abacs aback\n",
      "2400 done 0.006997 percent complete\n",
      "best found so far: depth 11 secret word aback\n",
      "guess list: added agogo ahuru allyl ajwan abaft abamp abaca abaci abacs aback\n"
     ]
    }
   ],
   "source": [
    "# the main method\n",
    "if __name__ == '__main__':\n",
    "    verbose = True\n",
    "    count = 0 # count all iterations for percent completion\n",
    "    # go through all secret words\n",
    "    best_depth = 0\n",
    "    best_guesses = []\n",
    "    best_secret = \"\"\n",
    "    for secret in range(secret_words.shape[0]):\n",
    "        # start depth-first search with every guess\n",
    "        for guess in range(guess_words.shape[0]):\n",
    "            valid_secrets = np.arange(guess_words.shape[0], dtype=int)\n",
    "            depth, guess_list = depth_first_search(secret, guess, valid_secrets)\n",
    "            depth += 1\n",
    "            count += 1\n",
    "            if(depth > best_depth):\n",
    "                best_depth = depth\n",
    "                guess_list = [guess] + guess_list\n",
    "                best_guesses = [\"\".join(guess_words[i].astype(str)) for i in guess_list]\n",
    "                best_secret = \"\".join(secret_words[secret].astype(str))\n",
    "            if(verbose and count % 200 == 0):\n",
    "                print(\"%d done %f percent complete\"%(count, 100*count/(guess_words.shape[0]*secret_words.shape[0])))\n",
    "                print(\"best found so far: depth %d secret word %s\"%(best_depth, best_secret))\n",
    "                print(\"guess list: \" + \" \".join([\"\".join(word) for word in best_guesses]))"
   ]
  },
  {
   "cell_type": "code",
   "execution_count": 14,
   "id": "03c3dcfa",
   "metadata": {},
   "outputs": [
    {
     "data": {
      "image/png": "[encoded data removed]",
      "text/plain": [
       "<Figure size 360x792 with 1 Axes>"
      ]
     },
     "metadata": {
      "needs_background": "light"
     },
     "output_type": "display_data"
    }
   ],
   "source": [
    "guesses = ['added', 'agogo', 'ahuru', 'allyl', 'ajwan', 'abaft', 'abamp', 'abaca', 'abaci', 'abacs', 'aback']\n",
    "\n",
    "guesses = np.array([[l for l in word] for word in guesses]).astype('|S1')\n",
    "secret = guess_words[12546]\n",
    "\n",
    "colors = np.array([wordle(secret, guess) for guess in guesses])\n",
    "\n",
    "visualize(guesses, colors)"
   ]
  },
  {
   "cell_type": "code",
   "execution_count": null,
   "id": "e6b7441d",
   "metadata": {},
   "outputs": [],
   "source": []
  }
 ],
 "metadata": {
  "kernelspec": {
   "display_name": "Python 3 (ipykernel)",
   "language": "python",
   "name": "python3"
  },
  "language_info": {
   "codemirror_mode": {
    "name": "ipython",
    "version": 3
   },
   "file_extension": ".py",
   "mimetype": "text/x-python",
   "name": "python",
   "nbconvert_exporter": "python",
   "pygments_lexer": "ipython3",
   "version": "3.9.7"
  }
 },
 "nbformat": 4,
 "nbformat_minor": 5
}
