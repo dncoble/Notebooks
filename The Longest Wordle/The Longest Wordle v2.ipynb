{
 "cells": [
  {
   "cell_type": "markdown",
   "id": "d5b597b4",
   "metadata": {},
   "source": [
    "<center>\n",
    "    \n",
    "    The Longest Wordle\n",
    "    \n",
    "    Author: Daniel Coble\n",
    "    \n",
    "    Status: Work in Progress\n",
    "</center>"
   ]
  },
  {
   "cell_type": "markdown",
   "id": "d060bae9",
   "metadata": {},
   "source": [
    "The popular word game Wordle needs no introduction. The goal is to guess a secret word in as few guesses as possible, but what is the worst that someone could do at Wordle? For the problem to be well-defined and interesting, we have to specify *hard mode rules*, i.e. at every guess we can only guess another word which is valid. This is actually the premise of the Wordle variant, [Don't Wordle](https://dontwordle.com/), where the goal is to 'fail' Wordle under hard mode rules. By removing the six-word limit, we get the problem stated here, stated explicitly:\n",
    "1. At every guess, information about the secret word is revealed according to Wordle rules.\n",
    "2. All guesses must be valid words from the guessing word list and not be ruled out by previously revealed information.\n",
    "3. The goal is to perform as many guesses as possible. Play ends when the player is forced to guess the secret word.\n",
    "\n",
    "I say 'secret' word, but for our purposes, the guesser knowns the secret word before they begin. Mathematically, we represent this as a longest path search problem through a tree, where each node is a valid Wordle guess."
   ]
  },
  {
   "cell_type": "code",
   "execution_count": 1,
   "id": "45124868",
   "metadata": {},
   "outputs": [],
   "source": [
    "import numpy as np\n",
    "import matplotlib.pyplot as plt\n",
    "plt.rcParams.update({'font.family':'monospace'})\n",
    "\"\"\"\n",
    "Load guesses and secret word lists from file into numpy array\n",
    "\n",
    "The list of official guesses and answers as published by Cyrus Freshman (as of 9/2/2022):\n",
    "\n",
    "allowed guesses: https://gist.github.com/cfreshman/d5fb56316158a1575898bba1eed3b5da\n",
    "possible answers: https://gist.github.com/cfreshman/a7b776506c73284511034e63af1017ee\n",
    "\"\"\"\n",
    "\n",
    "guess_words = np.loadtxt(\"guess_words.txt\", dtype=str)\n",
    "secret_words = np.loadtxt(\"secret_words.txt\", dtype=str)\n",
    "\n",
    "# guess list didn't contain secret_words\n",
    "guess_words = np.append(guess_words, secret_words)\n",
    "\n",
    "guess_words = np.array([[letter for letter in word] for word in guess_words]).astype('|S1')\n",
    "secret_words = np.array([[letter for letter in word] for word in secret_words]).astype('|S1')"
   ]
  },
  {
   "cell_type": "code",
   "execution_count": 2,
   "id": "274e9b67",
   "metadata": {},
   "outputs": [],
   "source": [
    "\"\"\"\n",
    "Calculate Wordle for a secret word and guess. The result is encoded as a five element array with \n",
    "0 = gray\n",
    "1 = yellow\n",
    "2 = green\n",
    "If asint=True, we take the result array and represent it as a ternary number.\n",
    "\n",
    "Wordle rules: Greens take precent over yellow. In the case of repeated letters in the guess, the earliest takes precendent.\n",
    "The same letter will only appear yellow with multiplicity if it appears with multiplicity in the secret word.\n",
    "\"\"\"\n",
    "def wordle(secret, guess, asint=False):\n",
    "    secret_ = np.copy(secret) # make copy\n",
    "    # first check greens\n",
    "    greens = secret_ == guess\n",
    "    # fill green spaces with blank to avoid showing as yellow\n",
    "    secret_[greens] = ' '\n",
    "    # yellow logic\n",
    "    yellows = np.zeros((5,))\n",
    "    for i, l in enumerate(guess):\n",
    "        if((not greens[i]) and (l in secret)):\n",
    "            yellows[i] = 1\n",
    "            secret_[np.where(secret_ == l)[0]] = ' ' # first occurance of letter\n",
    "    rtrn = yellows + 2*greens\n",
    "    if(asint):\n",
    "        return int(np.dot(rtrn, np.array([81, 27, 9, 3, 1])))\n",
    "    return rtrn\n",
    "\n",
    "\"\"\"\n",
    "Given the guesses and colors, visualize the Wordle game. Guesses and colors must be the same shape.\n",
    "\"\"\"\n",
    "def visualize(guesses, colors):\n",
    "    plt.figure(figsize=(5, guesses.shape[0]))\n",
    "    plt.xlim((-.5, 5))\n",
    "    plt.ylim((-guesses.shape[0], .5))\n",
    "    cc = ['lightgray', 'yellow', 'green']\n",
    "    for y in range(guesses.shape[0]):\n",
    "        for x in range(5):\n",
    "            plt.plot([x], [-y], marker='s', c=cc[colors[y, x]], markersize=50)\n",
    "            plt.text(x-.15, -y-.15, guesses[y, x].astype(str), fontsize=30)\n",
    "    plt.axis(\"off\")\n",
    "    plt.tight_layout()\n",
    "    plt.show()"
   ]
  },
  {
   "cell_type": "code",
   "execution_count": 4,
   "id": "3c0e24ae",
   "metadata": {},
   "outputs": [
    {
     "data": {
      "image/png": "[encoded data removed]",
      "text/plain": [
       "<Figure size 360x288 with 1 Axes>"
      ]
     },
     "metadata": {
      "needs_background": "light"
     },
     "output_type": "display_data"
    }
   ],
   "source": [
    "\"\"\"\n",
    "Play a Wordle game to test the above functions.\n",
    "\"\"\"\n",
    "secret = \"title\"\n",
    "guesses = [\"crumb\", \"guilt\", \"aisle\", \"title\"]\n",
    "\n",
    "secret = np.array([letter for letter in secret]).astype(\"|S1\")\n",
    "guesses = np.array([[letter for letter in word] for word in guesses]).astype('|S1')\n",
    "\n",
    "colors = np.array([wordle(secret, guess) for guess in guesses])\n",
    "\n",
    "visualize(guesses, colors)"
   ]
  },
  {
   "cell_type": "markdown",
   "id": "4398d155",
   "metadata": {},
   "source": [
    "Now that Wordle has been coded, we have to code a depth-first search of all hard-mode games. First, I precompute all possible pairs of (secret, guess) words and the Wordle coloring and save to a lookup table. Using asint=True, this becomes a 2D array of ints. The depth first search is produced as a recursive algorithm, which at every depth iteration, eliminates valid secret words until only the real secret word is left."
   ]
  },
  {
   "cell_type": "code",
   "execution_count": 13,
   "id": "73130798",
   "metadata": {},
   "outputs": [],
   "source": [
    "# This takes a long time to run. I save the results to lookup.npy\n",
    "lookup = np.zeros((guess_words.shape[0], guess_words.shape[0]), dtype=int)\n",
    "for i in range(guess_words.shape[0]):\n",
    "    for j in range(guess_words.shape[0]):\n",
    "        lookup[i,j] = wordle(guess_words[i], guess_words[j], asint=True)\n",
    "lookup = np.save(\"lookup.npy\", lookup)"
   ]
  },
  {
   "cell_type": "code",
   "execution_count": 3,
   "id": "e82113b5",
   "metadata": {},
   "outputs": [],
   "source": [
    "lookup = np.load(\"lookup.npy\")"
   ]
  },
  {
   "cell_type": "code",
   "execution_count": 6,
   "id": "ace89ba0",
   "metadata": {},
   "outputs": [],
   "source": [
    "\"\"\"\n",
    "Depth-first search. valid_secrets and valid_guesses are boolean array screens for the secret_words and guess_words arrays\n",
    "secret and guess are integer indices of their respective words in secret_words and guess_words\n",
    "\"\"\"\n",
    "def depth_first_search(secret, guess, valid_secrets):\n",
    "    # base case: guess is secret\n",
    "    print(guess_words[guess])\n",
    "    if(np.all(secret_words[secret] == guess_words[guess])):\n",
    "        return 1, []\n",
    "    # eliminate from valid secrets based on guess\n",
    "    colors = lookup[secret, guess]\n",
    "    valid_secrets_ = np.logical_and(valid_secrets, lookup[:,guess] == colors)\n",
    "    # depth-first search\n",
    "    guess_list = []\n",
    "    depth = 0\n",
    "    for new_guess in np.where(valid_secrets_)[0]:\n",
    "        prop_depth, prop_guess_list = depth_first_search(secret, new_guess, valid_secrets_)\n",
    "        prop_depth += 1; prop_guess_list = [new_guess] + prop_guess_list\n",
    "        if(prop_depth > depth):\n",
    "            depth = prop_depth; guess_list = prop_guess_list\n",
    "    return depth, guess_list"
   ]
  },
  {
   "cell_type": "code",
   "execution_count": null,
   "id": "d4700221",
   "metadata": {},
   "outputs": [],
   "source": [
    "# the main method\n",
    "if __name__ == '__main__':\n",
    "    # go through all secret words\n",
    "    best_depth = 0\n",
    "    best_guesses = []\n",
    "    best_secret = \"\"\n",
    "    for secret in range(secret_words.shape[0]):\n",
    "        if(secret > 0):\n",
    "            print(\"best found so far: depth %d secret word %s\"%(best_depth, best_secret))\n",
    "            print(\"guess list: \" + \" \".join([\"\".join(word.astype(str)) for word in best_guesses]))\n",
    "        # start depth-first search with every guess\n",
    "        for guess in range(guess_words.shape[0]):\n",
    "            valid_secrets = np.ones((guess_words.shape[0],), dtype=bool)\n",
    "            depth, guess_list = depth_first_search(secret, guess, valid_secrets)\n",
    "            guess_list = [guess] + guess_list\n",
    "            if(depth > best_depth):\n",
    "                best_depth = depth\n",
    "                best_guesses = [\"\".join(guess_words[i].astype(str)) for i in guess_list]\n",
    "                best_secret = \"\".join(secret_words[secret].astype(str))\n",
    "            print(\"just found so far: depth %d secret word %s\"%(depth, \"\".join(secret_words[secret].astype(str))))\n",
    "            print(\"guess list: \" + \" \".join([\"\".join(guess_words[i].astype(str)) for i in guess_list]))"
   ]
  },
  {
   "cell_type": "code",
   "execution_count": 5,
   "id": "08f311e0",
   "metadata": {},
   "outputs": [],
   "source": []
  },
  {
   "cell_type": "code",
   "execution_count": 20,
   "id": "1ccd8b90",
   "metadata": {},
   "outputs": [],
   "source": [
    "colors = lookup[secret, guess]"
   ]
  },
  {
   "cell_type": "code",
   "execution_count": 5,
   "id": "03c3dcfa",
   "metadata": {},
   "outputs": [
    {
     "ename": "NameError",
     "evalue": "name 'depth_first_search' is not defined",
     "output_type": "error",
     "traceback": [
      "\u001b[1;31m---------------------------------------------------------------------------\u001b[0m",
      "\u001b[1;31mNameError\u001b[0m                                 Traceback (most recent call last)",
      "\u001b[1;32m~\\AppData\\Local\\Temp/ipykernel_2724/217854384.py\u001b[0m in \u001b[0;36m<module>\u001b[1;34m\u001b[0m\n\u001b[0;32m      2\u001b[0m \u001b[0mguess\u001b[0m \u001b[1;33m=\u001b[0m \u001b[1;36m0\u001b[0m\u001b[1;33m\u001b[0m\u001b[1;33m\u001b[0m\u001b[0m\n\u001b[0;32m      3\u001b[0m \u001b[0mvalid_secrets\u001b[0m \u001b[1;33m=\u001b[0m \u001b[0mnp\u001b[0m\u001b[1;33m.\u001b[0m\u001b[0mones\u001b[0m\u001b[1;33m(\u001b[0m\u001b[1;33m(\u001b[0m\u001b[0mguess_words\u001b[0m\u001b[1;33m.\u001b[0m\u001b[0mshape\u001b[0m\u001b[1;33m[\u001b[0m\u001b[1;36m0\u001b[0m\u001b[1;33m]\u001b[0m\u001b[1;33m,\u001b[0m\u001b[1;33m)\u001b[0m\u001b[1;33m,\u001b[0m \u001b[0mdtype\u001b[0m\u001b[1;33m=\u001b[0m\u001b[0mbool\u001b[0m\u001b[1;33m)\u001b[0m\u001b[1;33m\u001b[0m\u001b[1;33m\u001b[0m\u001b[0m\n\u001b[1;32m----> 4\u001b[1;33m \u001b[0mdepth\u001b[0m\u001b[1;33m,\u001b[0m \u001b[0mwordlist\u001b[0m \u001b[1;33m=\u001b[0m \u001b[0mdepth_first_search\u001b[0m\u001b[1;33m(\u001b[0m\u001b[0msecret\u001b[0m\u001b[1;33m,\u001b[0m \u001b[0mguess\u001b[0m\u001b[1;33m,\u001b[0m \u001b[0mvalid_secrets\u001b[0m\u001b[1;33m)\u001b[0m\u001b[1;33m\u001b[0m\u001b[1;33m\u001b[0m\u001b[0m\n\u001b[0m",
      "\u001b[1;31mNameError\u001b[0m: name 'depth_first_search' is not defined"
     ]
    }
   ],
   "source": [
    "secret = 0\n",
    "guess = 0\n",
    "valid_secrets = np.ones((guess_words.shape[0],), dtype=bool)\n",
    "depth, wordlist = depth_first_search(secret, guess, valid_secrets)"
   ]
  },
  {
   "cell_type": "code",
   "execution_count": 7,
   "id": "fae1bdbd",
   "metadata": {},
   "outputs": [],
   "source": [
    "l = lookup[:,guess]"
   ]
  },
  {
   "cell_type": "code",
   "execution_count": 8,
   "id": "8ae76263",
   "metadata": {},
   "outputs": [],
   "source": [
    "rtrn = wordle(guess_words[0], guess_words[0], asint=True)"
   ]
  },
  {
   "cell_type": "code",
   "execution_count": 9,
   "id": "bffc7111",
   "metadata": {},
   "outputs": [
    {
     "data": {
      "text/plain": [
       "121.0"
      ]
     },
     "execution_count": 9,
     "metadata": {},
     "output_type": "execute_result"
    }
   ],
   "source": [
    "rtrn"
   ]
  },
  {
   "cell_type": "code",
   "execution_count": null,
   "id": "2ebcf282",
   "metadata": {},
   "outputs": [],
   "source": []
  }
 ],
 "metadata": {
  "kernelspec": {
   "display_name": "Python 3 (ipykernel)",
   "language": "python",
   "name": "python3"
  },
  "language_info": {
   "codemirror_mode": {
    "name": "ipython",
    "version": 3
   },
   "file_extension": ".py",
   "mimetype": "text/x-python",
   "name": "python",
   "nbconvert_exporter": "python",
   "pygments_lexer": "ipython3",
   "version": "3.9.7"
  }
 },
 "nbformat": 4,
 "nbformat_minor": 5
}
