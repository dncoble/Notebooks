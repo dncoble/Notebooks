{
 "cells": [
  {
   "cell_type": "markdown",
   "id": "95efff20",
   "metadata": {},
   "source": [
    "<center>\n",
    "    \n",
    "    Topology of Discretely Sampled Signals\n",
    "    \n",
    "    Author: Daniel Coble\n",
    "    \n",
    "    Status: Not finished\n",
    "</center>"
   ]
  },
  {
   "cell_type": "markdown",
   "id": "9593f27d",
   "metadata": {},
   "source": [
    "This notebook accompanies a write-up I'm doing for topological data analysis. Specifically, I look at time-series signals under time-delay embeddings."
   ]
  },
  {
   "cell_type": "code",
   "execution_count": 19,
   "id": "55f7ccf3",
   "metadata": {},
   "outputs": [],
   "source": [
    "import numpy as np\n",
    "import matplotlib.pyplot as plt\n",
    "\n",
    "# sample signal\n",
    "N = 128\n",
    "d = 16\n",
    "t = np.arange(N)\n",
    "x = .25*np.sin(2*np.pi*t/N) + .3*np.sin(4*np.pi*t/(N) + np.pi/2) + .15*np.sin(8*np.pi*t/(N) + np.pi/3)\n",
    "# build DFT matrix\n",
    "F = np.zeros((N, N), dtype=np.cdouble)\n",
    "i = complex(0, 1)\n",
    "omega = np.exp(-2*np.pi*i/N)\n",
    "for j in range(N):\n",
    "    for k in range(N):\n",
    "        F[j,k] = omega**(j*k)\n",
    "F = F/np.sqrt(N)\n",
    "# build inverse DFT matrix\n",
    "F_ = np.zeros((N, N), dtype=np.cdouble)\n",
    "omega = np.exp(2*np.pi*i/N)\n",
    "for j in range(N):\n",
    "    for k in range(N):\n",
    "        F_[j,k] = omega**(j*k)\n",
    "F_ = F_/np.sqrt(N)\n",
    "\n",
    "Fx = F@x"
   ]
  },
  {
   "cell_type": "code",
   "execution_count": 35,
   "id": "811d1ff1",
   "metadata": {},
   "outputs": [],
   "source": [
    "# Time delay\n",
    "def D(x, i, N=N, d=d):\n",
    "    Dx = np.zeros(N)\n",
    "    Dx[:d] = x[i:i+d]\n",
    "    return Dx\n",
    "# D tilde transform\n",
    "def Dtilde(x, i, N=N, d=d):\n",
    "    Dtildex = np.zeros(N)\n",
    "\n",
    "# timeshift\n",
    "def shift(x, delta):\n",
    "    N = x.size\n",
    "    s = np.zeros(N)\n",
    "    s[:N-delta] = x[delta:N]\n",
    "    s[N-delta:] = x[:delta]\n",
    "    return s\n",
    "\n",
    "# magnitude of vector\n",
    "def mag(x):\n",
    "    return np.real(np.inner(x.flatten(), np.conjugate(x.flatten())))"
   ]
  },
  {
   "cell_type": "code",
   "execution_count": 71,
   "id": "0e50e090",
   "metadata": {},
   "outputs": [
    {
     "data": {
      "text/plain": [
       "(0.12044669153362089-3.82564746712294e-18j)"
      ]
     },
     "execution_count": 71,
     "metadata": {},
     "output_type": "execute_result"
    }
   ],
   "source": [
    "delta = 1\n",
    "x1 = x\n",
    "x2 = shift(x, delta)\n",
    "\n",
    "e1 = mag(x1 - x2)\n",
    "\n",
    "S = np.diag(2 - 2*np.cos(2*np.pi*delta*np.arange(N)/N))\n",
    "\n",
    "K = np.conjugate(F).T @ S @ F\n",
    "x.T@ np.conjugate(F).T @ S @ F @ x"
   ]
  },
  {
   "cell_type": "code",
   "execution_count": 90,
   "id": "ed35ae1e",
   "metadata": {},
   "outputs": [
    {
     "data": {
      "text/plain": [
       "<matplotlib.collections.QuadMesh at 0x1b7604ab910>"
      ]
     },
     "execution_count": 90,
     "metadata": {},
     "output_type": "execute_result"
    },
    {
     "data": {
      "image/png": "[encoded data removed]",
      "text/plain": [
       "<Figure size 432x288 with 1 Axes>"
      ]
     },
     "metadata": {
      "needs_background": "light"
     },
     "output_type": "display_data"
    }
   ],
   "source": [
    "delta = 20\n",
    "x1 = x\n",
    "x2 = shift(x, delta)\n",
    "\n",
    "e1 = mag(x1 - x2)\n",
    "\n",
    "S = np.diag(2 - 2*np.cos(2*np.pi*delta*np.arange(N)/N))\n",
    "\n",
    "K = np.conjugate(F).T @ S @ F\n",
    "\n",
    "K_ = np.abs(K)\n",
    "\n",
    "plt.figure()\n",
    "plt.pcolormesh(K_)"
   ]
  },
  {
   "cell_type": "code",
   "execution_count": 58,
   "id": "675fae33",
   "metadata": {},
   "outputs": [
    {
     "data": {
      "text/plain": [
       "0.47910270274470423"
      ]
     },
     "execution_count": 58,
     "metadata": {},
     "output_type": "execute_result"
    }
   ],
   "source": [
    "e1"
   ]
  },
  {
   "cell_type": "code",
   "execution_count": 34,
   "id": "ede6a89e",
   "metadata": {},
   "outputs": [
    {
     "ename": "AttributeError",
     "evalue": "'NoneType' object has no attribute 'shape'",
     "output_type": "error",
     "traceback": [
      "\u001b[1;31m---------------------------------------------------------------------------\u001b[0m",
      "\u001b[1;31mAttributeError\u001b[0m                            Traceback (most recent call last)",
      "\u001b[1;32m~\\AppData\\Local\\Temp/ipykernel_19140/540394460.py\u001b[0m in \u001b[0;36m<module>\u001b[1;34m\u001b[0m\n\u001b[1;32m----> 1\u001b[1;33m \u001b[0mx2\u001b[0m\u001b[1;33m.\u001b[0m\u001b[0mshape\u001b[0m\u001b[1;33m\u001b[0m\u001b[1;33m\u001b[0m\u001b[0m\n\u001b[0m",
      "\u001b[1;31mAttributeError\u001b[0m: 'NoneType' object has no attribute 'shape'"
     ]
    }
   ],
   "source": [
    "x2.shape"
   ]
  },
  {
   "cell_type": "code",
   "execution_count": 29,
   "id": "2f3ef72f",
   "metadata": {},
   "outputs": [
    {
     "data": {
      "text/plain": [
       "(1,)"
      ]
     },
     "execution_count": 29,
     "metadata": {},
     "output_type": "execute_result"
    }
   ],
   "source": [
    "s[:delta-N].shape"
   ]
  },
  {
   "cell_type": "code",
   "execution_count": 15,
   "id": "c1a37a86",
   "metadata": {},
   "outputs": [
    {
     "data": {
      "text/plain": [
       "11.313708498984761"
      ]
     },
     "execution_count": 15,
     "metadata": {},
     "output_type": "execute_result"
    }
   ],
   "source": [
    "np.sqrt(N)"
   ]
  },
  {
   "cell_type": "code",
   "execution_count": null,
   "id": "4996ef82",
   "metadata": {},
   "outputs": [],
   "source": []
  }
 ],
 "metadata": {
  "kernelspec": {
   "display_name": "Python 3 (ipykernel)",
   "language": "python",
   "name": "python3"
  },
  "language_info": {
   "codemirror_mode": {
    "name": "ipython",
    "version": 3
   },
   "file_extension": ".py",
   "mimetype": "text/x-python",
   "name": "python",
   "nbconvert_exporter": "python",
   "pygments_lexer": "ipython3",
   "version": "3.10.12"
  }
 },
 "nbformat": 4,
 "nbformat_minor": 5
}
