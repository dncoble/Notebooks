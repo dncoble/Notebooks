{
 "cells": [
  {
   "cell_type": "markdown",
   "id": "b54a57c7",
   "metadata": {},
   "source": [
    "<center>\n",
    "    \n",
    "    Boolean Backpropagation\n",
    "    \n",
    "    Author: Daniel Coble\n",
    "    \n",
    "    Status: Work in Progress\n",
    "</center>"
   ]
  },
  {
   "cell_type": "markdown",
   "id": "15408518",
   "metadata": {},
   "source": [
    "I show a method of developing a boolean logic model and training it with a backpropagation method. I apply this method to the MNIST dataset."
   ]
  },
  {
   "cell_type": "code",
   "execution_count": 121,
   "id": "e7d72023",
   "metadata": {},
   "outputs": [],
   "source": [
    "# load mnist\n",
    "import numpy as np\n",
    "import sklearn as sk\n",
    "from sklearn import datasets\n",
    "import matplotlib.pyplot as plt\n",
    "import matplotlib as mpl\n",
    "\n",
    "mnist = sk.datasets.fetch_openml('mnist_784', as_frame=False, parser='liac-arff')\n",
    "\n",
    "data=mnist['data']\n",
    "target = np.asarray(mnist['target'],dtype=int)\n",
    "\n",
    "# use 1/10 of data\n",
    "data = data[::10,:]\n",
    "target = target[::10]\n",
    "\n",
    "\n",
    "target_ = np.zeros((data.shape[0], 10), dtype=bool)\n",
    "for i, d in enumerate(target):\n",
    "    target_[i,d] = True\n",
    "target = target_\n",
    "\n",
    "data_train, data_test, target_train, target_test = sk.model_selection.\\\n",
    "    train_test_split(data, target, test_size=0.2)"
   ]
  },
  {
   "cell_type": "code",
   "execution_count": 102,
   "id": "6dda3ae0",
   "metadata": {},
   "outputs": [
    {
     "data": {
      "image/png": "[encoded data removed]",
      "text/plain": [
       "<Figure size 640x480 with 1 Axes>"
      ]
     },
     "metadata": {},
     "output_type": "display_data"
    }
   ],
   "source": [
    "# plot a digit\n",
    "\n",
    "digit_id = np.random.randint(0, high=data.shape[0])\n",
    "test_digit = data[digit_id,:]\n",
    "digit_reshaped = np.reshape(test_digit,(28,28))\n",
    "\n",
    "plt.figure()\n",
    "plt.imshow(digit_reshaped, cmap=mpl.cm.binary, interpolation='nearest')\n",
    "plt.show()"
   ]
  },
  {
   "cell_type": "code",
   "execution_count": 147,
   "id": "fb2b2b2e",
   "metadata": {},
   "outputs": [
    {
     "name": "stdout",
     "output_type": "stream",
     "text": [
      "4.198214285714286\n"
     ]
    }
   ],
   "source": [
    "nodes_layer1 = 10240\n",
    "nodes_layer2 = 2560\n",
    "nodes_layer3 = 640\n",
    "nodes_layer4 = 160\n",
    "nodes_layer5 = 40\n",
    "nodes_layer6 = 10\n",
    "\n",
    "nodes_per_layer = [nodes_layer1, nodes_layer2, nodes_layer3, nodes_layer4, nodes_layer5, nodes_layer6]\n",
    "\n",
    "# weights of each layer\n",
    "w_layer = [np.random.rand(nodes) > .5 for nodes in nodes_per_layer]\n",
    "w_reverse = reversed(w_layer)\n",
    "# connections of each node\n",
    "prev_nodes = [784] + nodes_per_layer[:-1]\n",
    "c_layer = [np.random.randint(0, high=prev, size=(3, nodes)) for prev, nodes in zip(prev_nodes, nodes_per_layer)]\n",
    "c_reverse = reversed(c_layer)\n",
    "# negations of each node\n",
    "n_layer = [np.random.rand(nodes, 3) > .5 for nodes in nodes_per_layer]\n",
    "n_reverse = reversed(n_layer)\n",
    "\n",
    "layer_1_threshold = np.random.rand(nodes_layer1, 3)\n",
    "\n",
    "stop_training = False\n",
    "history = {\n",
    "    'error': [],\n",
    "    'n_nodes_improve': [],\n",
    "    'expected_next_error': [],\n",
    "}\n",
    "epoch = 0\n",
    "N = data_train.shape[0]\n",
    "# begin training\n",
    "while(not stop_training):\n",
    "    # forward inference\n",
    "    x = data_train.T\n",
    "    for i, (w, c, n) in enumerate(zip(w_layer, c_layer, n_layer)):\n",
    "        z_forward = []\n",
    "        y_forward = []\n",
    "        if(i == 0):\n",
    "            # https://numpy.org/doc/stable/user/basics.indexing.html\n",
    "            z = x[c].T > layer_1_threshold\n",
    "            z = np.logical_xor(z, n)\n",
    "            y = np.any(z, axis=2)\n",
    "            x = w*x\n",
    "            x = x.T\n",
    "            z_forward.append(z)\n",
    "            y_forward.append(y)\n",
    "        else:\n",
    "            z = x[c].T\n",
    "            x = np.any(z, axis=2)\n",
    "            x = w*x\n",
    "            x = x.T\n",
    "            z_forward.append(z)\n",
    "    \n",
    "    # calculate error\n",
    "    e = x != (target_train.T)\n",
    "    E = 1/N * np.sum(e)\n",
    "    print(E)\n",
    "    \n",
    "    # dx: increase in error if value is flipped\n",
    "    dx = (1/(10*N))*e + (-1/(10*N))*(np.logical_not(e))\n",
    "    # backpropagation\n",
    "    z_reverse = reversed(z_forward)\n",
    "    y_reverse = reversed(y_forward)\n",
    "    for i, (w, c, n, z) in enumerate(zip(w_reverse, c_reverse, n_reverse, z_reverse, y_reverse)):\n",
    "        du = dx\n",
    "        dw = np.sum(du*y, axis=1)\n",
    "        print(c.shape)\n",
    "        dx = np.zeros(c.shape)\n",
    "    \n",
    "    \n",
    "    stop_training = True\n",
    "        \n",
    "        "
   ]
  },
  {
   "cell_type": "code",
   "execution_count": 140,
   "id": "44fe2d8d",
   "metadata": {},
   "outputs": [
    {
     "ename": "ValueError",
     "evalue": "operands could not be broadcast together with shapes (5600,10,3) (10240,3) ",
     "output_type": "error",
     "traceback": [
      "\u001b[1;31m---------------------------------------------------------------------------\u001b[0m",
      "\u001b[1;31mValueError\u001b[0m                                Traceback (most recent call last)",
      "Cell \u001b[1;32mIn[140], line 6\u001b[0m\n\u001b[0;32m      3\u001b[0m n \u001b[38;5;241m=\u001b[39m n_layer[\u001b[38;5;241m0\u001b[39m]\n\u001b[0;32m      5\u001b[0m x \u001b[38;5;241m=\u001b[39m data_train\u001b[38;5;241m.\u001b[39mT\n\u001b[1;32m----> 6\u001b[0m z \u001b[38;5;241m=\u001b[39m \u001b[43mx\u001b[49m\u001b[43m[\u001b[49m\u001b[43mc\u001b[49m\u001b[43m]\u001b[49m\u001b[38;5;241;43m.\u001b[39;49m\u001b[43mT\u001b[49m\u001b[43m \u001b[49m\u001b[38;5;241;43m>\u001b[39;49m\u001b[43m \u001b[49m\u001b[43mlayer_1_threshold\u001b[49m\n\u001b[0;32m      7\u001b[0m z \u001b[38;5;241m=\u001b[39m np\u001b[38;5;241m.\u001b[39mlogical_xor(z, n)\n\u001b[0;32m      8\u001b[0m x \u001b[38;5;241m=\u001b[39m np\u001b[38;5;241m.\u001b[39many(z, axis\u001b[38;5;241m=\u001b[39m\u001b[38;5;241m2\u001b[39m)\n",
      "\u001b[1;31mValueError\u001b[0m: operands could not be broadcast together with shapes (5600,10,3) (10240,3) "
     ]
    }
   ],
   "source": [
    "w = w_layer[0]\n",
    "c = c_layer[0]\n",
    "n = n_layer[0]\n",
    "\n",
    "x = data_train.T\n",
    "z = x[c].T > layer_1_threshold\n",
    "z = np.logical_xor(z, n)\n",
    "x = np.any(z, axis=2)\n",
    "x = w*x\n",
    "z_forward.append(z)"
   ]
  },
  {
   "cell_type": "code",
   "execution_count": 148,
   "id": "c9a84dd8",
   "metadata": {},
   "outputs": [
    {
     "data": {
      "text/plain": [
       "(10, 5600)"
      ]
     },
     "execution_count": 148,
     "metadata": {},
     "output_type": "execute_result"
    }
   ],
   "source": [
    "de.shape"
   ]
  },
  {
   "cell_type": "code",
   "execution_count": 130,
   "id": "297f9a97",
   "metadata": {},
   "outputs": [
    {
     "data": {
      "text/plain": [
       "(784, 5600)"
      ]
     },
     "execution_count": 130,
     "metadata": {},
     "output_type": "execute_result"
    }
   ],
   "source": [
    "data_train.T.shape"
   ]
  },
  {
   "cell_type": "markdown",
   "id": "aa60f62d",
   "metadata": {},
   "source": [
    "Some things to note:\n",
    "1. It's possible to reduce the compute cost during training by only processing the propagation after the changed value.\n",
    "2. An inferring model will be smaller after all weights=0 are eliminated."
   ]
  },
  {
   "cell_type": "code",
   "execution_count": null,
   "id": "2d960c8f",
   "metadata": {},
   "outputs": [],
   "source": []
  }
 ],
 "metadata": {
  "kernelspec": {
   "display_name": "Python 3 (ipykernel)",
   "language": "python",
   "name": "python3"
  },
  "language_info": {
   "codemirror_mode": {
    "name": "ipython",
    "version": 3
   },
   "file_extension": ".py",
   "mimetype": "text/x-python",
   "name": "python",
   "nbconvert_exporter": "python",
   "pygments_lexer": "ipython3",
   "version": "3.10.12"
  }
 },
 "nbformat": 4,
 "nbformat_minor": 5
}
