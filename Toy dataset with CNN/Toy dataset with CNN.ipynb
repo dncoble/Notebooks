{
 "cells": [
  {
   "cell_type": "markdown",
   "id": "05adee0e",
   "metadata": {},
   "source": [
    "<center>\n",
    "    \n",
    "    Toy dataset with CNN\n",
    "    \n",
    "    Author: Daniel Coble\n",
    "    \n",
    "    Status: Finished\n",
    "</center>"
   ]
  },
  {
   "cell_type": "markdown",
   "id": "ab1c8dd9",
   "metadata": {},
   "source": [
    "In \"Toy datasets and training an MLP\", I created a simple toy dataset with entries of 32x32 black and white pixel grids. Each grid had two lines, and it was the goal of the neural net to predict where the lines would intersect. One can easily see why an MLP might not be the best choice for this type of data. For one thing, the MLP has no sense of left, right, up, and down. It recieves only a flattened vector of the pixel grid, and must intuit our idea of space from the training data. (Imagine all the pixels in the dataset were randomized before being handed to you, and you didn't know how they were randomized. You would find thed task much harder.)\n",
    "\n",
    "Convolutional neural networks do have a sense of direction. The 2D convolutional network trained here applies the same convolution (technically a cross-correlation) to every element of the 2D grid input to produce another 2D grid. With progressive layers CNNs, the grid will get smaller by the use of a stride."
   ]
  },
  {
   "cell_type": "code",
   "execution_count": 1,
   "id": "c32abb6d",
   "metadata": {},
   "outputs": [
    {
     "name": "stdout",
     "output_type": "stream",
     "text": [
      "10% finished.\n",
      "20% finished.\n",
      "30% finished.\n",
      "40% finished.\n",
      "50% finished.\n",
      "60% finished.\n",
      "70% finished.\n",
      "80% finished.\n",
      "90% finished.\n",
      "100% finished.\n"
     ]
    },
    {
     "data": {
      "image/png": "[encoded data removed]",
      "text/plain": [
       "<Figure size 432x288 with 1 Axes>"
      ]
     },
     "metadata": {
      "needs_background": "light"
     },
     "output_type": "display_data"
    },
    {
     "data": {
      "image/png": "[encoded data removed]",
      "text/plain": [
       "<Figure size 432x288 with 1 Axes>"
      ]
     },
     "metadata": {
      "needs_background": "light"
     },
     "output_type": "display_data"
    },
    {
     "data": {
      "image/png": "[encoded data removed]",
      "text/plain": [
       "<Figure size 432x288 with 1 Axes>"
      ]
     },
     "metadata": {
      "needs_background": "light"
     },
     "output_type": "display_data"
    },
    {
     "data": {
      "image/png": "[encoded data removed]",
      "text/plain": [
       "<Figure size 432x288 with 1 Axes>"
      ]
     },
     "metadata": {
      "needs_background": "light"
     },
     "output_type": "display_data"
    }
   ],
   "source": [
    "import numpy as np\n",
    "import matplotlib.pyplot as plt\n",
    "import matplotlib as mpl\n",
    "import math\n",
    "import random\n",
    "import tensorflow as tf\n",
    "import tensorflow.keras as keras\n",
    "from tensorflow.keras import losses\n",
    "from math import floor\n",
    "from sklearn import model_selection\n",
    "\n",
    "\n",
    "def createplot():\n",
    "    length = .3\n",
    "    length_sq = length**2\n",
    "    point = [random.random(), random.random()]\n",
    "    x1 = random.random()\n",
    "    y1 = random.random()\n",
    "    no_space_line_1 = True\n",
    "    while(no_space_line_1):\n",
    "        no_space_line_1 = False\n",
    "        dist1 = (x1-point[0])**2 + (y1-point[1])**2\n",
    "        if(dist1 < length_sq):\n",
    "            no_space_line_1 = True\n",
    "            x1 = random.random()\n",
    "            y1 = random.random()\n",
    "    x2 = random.random()\n",
    "    y2 = random.random()\n",
    "    no_space_line_2 = True\n",
    "    while(no_space_line_2):\n",
    "        no_space_line_2 = False\n",
    "        dist2 = (x2-point[0])**2 + (y2-point[1])**2\n",
    "        if(dist2 < length**2):\n",
    "            no_space_line_2 = True\n",
    "            x2 = random.random()\n",
    "            y2 = random.random()\n",
    "    \n",
    "    dist1 = math.sqrt(dist1)\n",
    "    dist2 = math.sqrt(dist2)\n",
    "    lineseg_1 = np.array([[x1,y1],[x1 + length*(point[0] - x1)/dist1,y1 + length*(point[1] - y1)/dist1]])\n",
    "    lineseg_2 = np.array([[x2,y2],[x2 + length*(point[0] - x2)/dist2,y2 + length*(point[1] - y2)/dist2]])\n",
    "    lineseg_1 = 32*lineseg_1\n",
    "    lineseg_2 = 32*lineseg_2\n",
    "    delta_x = 0.01 * (lineseg_1[1,0] - lineseg_1[0,0])\n",
    "    delta_y = 0.01 * (lineseg_1[1,1] - lineseg_1[0,1])\n",
    "    x1 *= 32\n",
    "    y1 *= 32\n",
    "    \n",
    "    plot = np.zeros(shape=(32,32))\n",
    "    for i in range(100):\n",
    "        x_index = floor(x1 + i*delta_x)\n",
    "        y_index = floor(y1 + i*delta_y)\n",
    "        plot[x_index, y_index] += .0678822\n",
    "    \n",
    "    x2 *= 32\n",
    "    y2 *= 32\n",
    "    delta_x = 0.01 * (lineseg_2[1,0] - lineseg_2[0,0])\n",
    "    delta_y = 0.01 * (lineseg_2[1,1] - lineseg_2[0,1])\n",
    "    \n",
    "    for i in range(100):\n",
    "        x_index = floor(x2 + i*delta_x)\n",
    "        y_index = floor(y2 + i*delta_y)\n",
    "        plot[x_index, y_index] += .0678822\n",
    "    \n",
    "    return (plot, point)\n",
    "    \n",
    "        \n",
    "\n",
    "amount = 100000\n",
    "data = []\n",
    "for i in range(amount):\n",
    "    if((i+1) % (amount//10) == 0):\n",
    "        print(str(round((i+1) / amount * 100)) + \"% finished.\")\n",
    "    data.append(createplot())\n",
    "plots = np.array([data[i][0] for i in range(amount)])\n",
    "points = np.array([data[i][1] for i in range(amount)])\n",
    "plots = np.expand_dims(plots, -1) # convolutional NN want's a dimension for channels\n",
    "\n",
    "\n",
    "train_img, test_img, train_label, test_label = model_selection.train_test_split(plots, points, test_size=.2)\n",
    "\n",
    "for i in range(4):\n",
    "    randint = random.randint(0,2000)\n",
    "    true = test_label[randint] \n",
    "    plt.figure()\n",
    "    plt.imshow(test_img[randint], cmap=mpl.cm.binary, interpolation = 'nearest', origin='lower', extent=[0,1,0,1])\n",
    "    plt.grid(False)\n",
    "    plt.plot(true[1], true[0], marker='x', markersize=12, color=\"red\")\n",
    "    plt.show()"
   ]
  },
  {
   "cell_type": "code",
   "execution_count": 2,
   "id": "ab995663",
   "metadata": {},
   "outputs": [
    {
     "name": "stdout",
     "output_type": "stream",
     "text": [
      "Epoch 1/5\n",
      "2500/2500 [==============================] - 27s 11ms/step - loss: 0.0544 - accuracy: 0.7176\n",
      "Epoch 2/5\n",
      "2500/2500 [==============================] - 26s 10ms/step - loss: 0.0378 - accuracy: 0.7968\n",
      "Epoch 3/5\n",
      "2500/2500 [==============================] - 27s 11ms/step - loss: 0.0347 - accuracy: 0.8165\n",
      "Epoch 4/5\n",
      "2500/2500 [==============================] - 26s 11ms/step - loss: 0.0328 - accuracy: 0.8261\n",
      "Epoch 5/5\n",
      "2500/2500 [==============================] - 27s 11ms/step - loss: 0.0316 - accuracy: 0.8297\n"
     ]
    }
   ],
   "source": [
    "import numpy as np\n",
    "import matplotlib.pyplot as plt\n",
    "import math\n",
    "import random\n",
    "import tensorflow as tf\n",
    "import tensorflow.keras as keras\n",
    "from tensorflow.keras import losses\n",
    "\n",
    "model = keras.Sequential([\n",
    "    keras.layers.Conv2D(filters=4, kernel_size=8, strides=1, padding=\"same\", activation=\"relu\", input_shape=(32,32,1)),\n",
    "    keras.layers.Conv2D(filters=4, kernel_size=8, strides=2, padding=\"same\", activation=\"relu\"),\n",
    "    keras.layers.Conv2D(filters=4, kernel_size=4, strides=2, padding=\"same\", activation=\"relu\"),\n",
    "    keras.layers.Conv2D(filters=4, kernel_size=4, strides=2, padding=\"same\", activation=\"relu\"),\n",
    "    keras.layers.Conv2D(filters=4, kernel_size=2, strides=2, padding=\"same\", activation=\"relu\"),\n",
    "    keras.layers.Flatten(),\n",
    "    keras.layers.Dense(2)\n",
    "])\n",
    "\n",
    "model.compile(optimizer='adam',\n",
    "              loss=tf.keras.losses.MeanSquaredError(),\n",
    "              metrics=['accuracy'])\n",
    "\n",
    "history = model.fit(train_img, train_label, epochs=5)"
   ]
  },
  {
   "cell_type": "markdown",
   "id": "96a9dc20",
   "metadata": {},
   "source": [
    "Now let's plot a few of the model's predictions on the test data to see how it did."
   ]
  },
  {
   "cell_type": "code",
   "execution_count": 17,
   "id": "4e7b637e",
   "metadata": {},
   "outputs": [
    {
     "name": "stdout",
     "output_type": "stream",
     "text": [
      "625/625 [==============================] - 2s 3ms/step\n"
     ]
    },
    {
     "data": {
      "image/png": "[encoded data removed]",
      "text/plain": [
       "<Figure size 864x432 with 4 Axes>"
      ]
     },
     "metadata": {},
     "output_type": "display_data"
    },
    {
     "data": {
      "text/plain": [
       "<Figure size 432x288 with 0 Axes>"
      ]
     },
     "metadata": {},
     "output_type": "display_data"
    },
    {
     "data": {
      "text/plain": [
       "<Figure size 432x288 with 0 Axes>"
      ]
     },
     "metadata": {},
     "output_type": "display_data"
    },
    {
     "data": {
      "text/plain": [
       "<Figure size 432x288 with 0 Axes>"
      ]
     },
     "metadata": {},
     "output_type": "display_data"
    },
    {
     "data": {
      "text/plain": [
       "<Figure size 432x288 with 0 Axes>"
      ]
     },
     "metadata": {},
     "output_type": "display_data"
    }
   ],
   "source": [
    "predictions = model.predict(test_img)\n",
    "\n",
    "fig, axes = plt.subplots(1, 4, figsize=(12, 6), sharey=True)\n",
    "plt.grid(False)\n",
    "\n",
    "for i, ax in enumerate(axes):\n",
    "    randint = random.randint(0,2000)\n",
    "    true = test_label[randint]\n",
    "    pred = predictions[randint]\n",
    "    plt.figure()\n",
    "    ax.imshow(test_img[randint], cmap=mpl.cm.binary, interpolation = 'nearest', origin='lower', extent=[0,1,0,1])\n",
    "    ax.set_yticks([])\n",
    "    ax.set_xticks([])\n",
    "    ax.plot(true[1], true[0], marker='x', markersize=12, color=\"red\")\n",
    "    ax.plot(pred[1], pred[0], marker='o', markersize=10, color=\"blue\")\n",
    "fig.savefig(\"CNN predictions.png\", dpi=250)"
   ]
  },
  {
   "cell_type": "markdown",
   "id": "a612c731",
   "metadata": {},
   "source": [
    "Now we can find the accuracy and loss for the data against the testing set. I got a testing accuracy of 0.83 and a loss of 0.032, which is basically the exact same as the MLP's values. However, this model converged after only 5 epochs, and has much, much fewer weights (1910 vs. 34978)."
   ]
  },
  {
   "cell_type": "code",
   "execution_count": null,
   "id": "ee0cab23",
   "metadata": {},
   "outputs": [],
   "source": [
    "test_loss, test_acc = model.evaluate(test_img, test_label, verbose=0)\n",
    "print('Test accuracy: ', test_acc)\n",
    "print('Test loss: ', test_loss )\n",
    "\n",
    "weight_sum = 0\n",
    "for weights in model.trainable_weights:\n",
    "    weight_sum += np.size(weights)\n",
    "print(\"Amount of weights: \", weight_sum)\n",
    "print(\"Training set size: \", train_img.shape[0])"
   ]
  }
 ],
 "metadata": {
  "kernelspec": {
   "display_name": "Python 3 (ipykernel)",
   "language": "python",
   "name": "python3"
  },
  "language_info": {
   "codemirror_mode": {
    "name": "ipython",
    "version": 3
   },
   "file_extension": ".py",
   "mimetype": "text/x-python",
   "name": "python",
   "nbconvert_exporter": "python",
   "pygments_lexer": "ipython3",
   "version": "3.9.7"
  }
 },
 "nbformat": 4,
 "nbformat_minor": 5
}
